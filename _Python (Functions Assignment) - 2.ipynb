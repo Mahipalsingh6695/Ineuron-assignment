{
 "cells": [
  {
   "cell_type": "markdown",
   "id": "b8362b30",
   "metadata": {},
   "source": [
    "Que 1. What is a lambda function in Python, and how does it differ from a regular function?\n",
    "\n",
    "Answer= a lambda function, also known as an anonymous function, is a concise way to create small, unnamed functions\n",
    "regular function is regular function with define function "
   ]
  },
  {
   "cell_type": "code",
   "execution_count": 1,
   "id": "4162eacc",
   "metadata": {},
   "outputs": [
    {
     "name": "stdout",
     "output_type": "stream",
     "text": [
      "25\n"
     ]
    }
   ],
   "source": [
    "#lamda function\n",
    "def square(x):\n",
    "    return x ** 2\n",
    "\n",
    "result = square(5)\n",
    "print(result)"
   ]
  },
  {
   "cell_type": "code",
   "execution_count": 2,
   "id": "510bcd46",
   "metadata": {},
   "outputs": [
    {
     "name": "stdout",
     "output_type": "stream",
     "text": [
      "25\n"
     ]
    }
   ],
   "source": [
    "#lamda function\n",
    "square_lambda = lambda x: x ** 2\n",
    "result_lambda = square_lambda(5)\n",
    "print(result_lambda)"
   ]
  },
  {
   "cell_type": "code",
   "execution_count": null,
   "id": "ef348fa3",
   "metadata": {},
   "outputs": [],
   "source": [
    "Que 2. Can a lambda function in Python have multiple arguments? If yes, how can you define and use\n",
    "them?\n",
    "\n",
    "Answer= yes"
   ]
  },
  {
   "cell_type": "code",
   "execution_count": 3,
   "id": "b6bcdc51",
   "metadata": {},
   "outputs": [
    {
     "name": "stdout",
     "output_type": "stream",
     "text": [
      "12\n"
     ]
    }
   ],
   "source": [
    "multiply = lambda x, y: x * y\n",
    "\n",
    "result = multiply(3, 4)\n",
    "print(result)"
   ]
  },
  {
   "cell_type": "markdown",
   "id": "2618c5fe",
   "metadata": {},
   "source": [
    "Que.3 How are lambda functions typically used in Python? Provide an example use case.\n",
    "\n",
    "Answer=\n",
    "Lambda functions in Python are typically used in situations where a short, anonymous function is needed for a specific operation. They are often employed in functional programming constructs, such as map, filter, and sorted, or in scenarios where a quick function is required as an argument to another function."
   ]
  },
  {
   "cell_type": "code",
   "execution_count": 4,
   "id": "882a672f",
   "metadata": {},
   "outputs": [
    {
     "name": "stdout",
     "output_type": "stream",
     "text": [
      "[('dilip', 95), ('Mahipal', 90), ('balveer', 50), ('Ravi', 34)]\n"
     ]
    }
   ],
   "source": [
    "\n",
    "students_scores = [('Mahipal', 90), ('Ravi', 34), ('dilip', 95), ('balveer', 50)]\n",
    "\n",
    "sorted_students = sorted(students_scores, key=lambda student: student[1], reverse=True)\n",
    "\n",
    "print(sorted_students)"
   ]
  },
  {
   "cell_type": "code",
   "execution_count": 5,
   "id": "39493118",
   "metadata": {},
   "outputs": [
    {
     "name": "stdout",
     "output_type": "stream",
     "text": [
      "[1, 4, 9, 16, 25]\n"
     ]
    }
   ],
   "source": [
    "numbers = [1, 2, 3, 4, 5]\n",
    "\n",
    "squared_numbers = list(map(lambda x: x**2, numbers))\n",
    "\n",
    "print(squared_numbers)"
   ]
  },
  {
   "cell_type": "markdown",
   "id": "bb95b8cd",
   "metadata": {},
   "source": [
    "4. What are the advantages and limitations of lambda functions compared to regular functions in\n",
    "Python?\n",
    "\n",
    "Answer= advantage "
   ]
  },
  {
   "cell_type": "markdown",
   "id": "ce30324f",
   "metadata": {},
   "source": [
    "•Conciseness: \n",
    "\n",
    "•Readability: \n",
    "\n",
    "•Functional Programming: \n",
    "\n",
    "•No Separate Definition: "
   ]
  },
  {
   "cell_type": "code",
   "execution_count": null,
   "id": "46ffd023",
   "metadata": {},
   "outputs": [],
   "source": [
    "Que 5. Are lambda functions in Python able to access variables defined outside of their own scope?\n",
    "Explain with an example.\n",
    "\n",
    "Answer = "
   ]
  },
  {
   "cell_type": "code",
   "execution_count": 6,
   "id": "f703404a",
   "metadata": {},
   "outputs": [],
   "source": [
    "def outer_function(x):\n",
    "    y = 5\n",
    "    \n",
    "    inner_lambda = lambda z: x + y + z\n",
    "    \n",
    "    return inner_lambda\n",
    "\n",
    "closure = outer_function(10)\n",
    "\n",
    "result = closure(3)"
   ]
  },
  {
   "cell_type": "code",
   "execution_count": null,
   "id": "ca285f59",
   "metadata": {},
   "outputs": [],
   "source": [
    "Que 6. Write a lambda function to calculate the square of a given number.\n",
    "\n",
    "Answer= "
   ]
  },
  {
   "cell_type": "code",
   "execution_count": 8,
   "id": "7f987a51",
   "metadata": {},
   "outputs": [
    {
     "name": "stdout",
     "output_type": "stream",
     "text": [
      "49\n"
     ]
    }
   ],
   "source": [
    "square_lambda = lambda x: x ** 2\n",
    "result = square_lambda(7)\n",
    "print(result)"
   ]
  },
  {
   "cell_type": "code",
   "execution_count": null,
   "id": "e623609a",
   "metadata": {},
   "outputs": [],
   "source": [
    "Que 7. Create a lambda function to find the maximum value in a list of integers.\n",
    "\n",
    "Answer= "
   ]
  },
  {
   "cell_type": "code",
   "execution_count": 9,
   "id": "e33b8e19",
   "metadata": {},
   "outputs": [
    {
     "name": "stdout",
     "output_type": "stream",
     "text": [
      "15\n"
     ]
    }
   ],
   "source": [
    "numbers = [10, 5, 8, 15, 3, 12]\n",
    "\n",
    "max_value = lambda lst: max(lst)\n",
    "\n",
    "result = max_value(numbers)\n",
    "\n",
    "print(result)"
   ]
  },
  {
   "cell_type": "code",
   "execution_count": null,
   "id": "9e3af9b4",
   "metadata": {},
   "outputs": [],
   "source": [
    "Que 8. Implement a lambda function to filter out all the even numbers from a list of integers.\n",
    "\n",
    "Answer= "
   ]
  },
  {
   "cell_type": "code",
   "execution_count": 10,
   "id": "fdd7fb29",
   "metadata": {},
   "outputs": [
    {
     "name": "stdout",
     "output_type": "stream",
     "text": [
      "[1, 3, 5, 7, 9]\n"
     ]
    }
   ],
   "source": [
    "\n",
    "numbers = [1, 2, 3, 4, 5, 6, 7, 8, 9, 10]\n",
    "filter_even = lambda lst: list(filter(lambda x: x % 2 != 0, lst))\n",
    "result = filter_even(numbers)\n",
    "\n",
    "print(result)"
   ]
  },
  {
   "cell_type": "code",
   "execution_count": null,
   "id": "af504812",
   "metadata": {},
   "outputs": [],
   "source": [
    "Que 9. Write a lambda function to sort a list of strings in ascending order based on the length of each\n",
    "string.\n",
    "\n",
    "Answer="
   ]
  },
  {
   "cell_type": "code",
   "execution_count": 11,
   "id": "1a5cf1f4",
   "metadata": {},
   "outputs": [
    {
     "name": "stdout",
     "output_type": "stream",
     "text": [
      "['kiwi', 'apple', 'grape', 'banana', 'orange']\n"
     ]
    }
   ],
   "source": [
    "strings_list = ['apple', 'banana', 'kiwi', '\n",
    "                orange', 'grape']\n",
    "\n",
    "sort_by_length = lambda lst: sorted(lst, key=lambda x: len(x))\n",
    "\n",
    "result = sort_by_length(strings_list)\n",
    "\n",
    "print(result)"
   ]
  },
  {
   "cell_type": "code",
   "execution_count": null,
   "id": "43592877",
   "metadata": {},
   "outputs": [],
   "source": [
    "Que.10. Create a lambda function that takes two lists as input and returns a new list containing the\n",
    "common elements between the two lists.\n",
    "\n",
    "Answer="
   ]
  },
  {
   "cell_type": "code",
   "execution_count": 13,
   "id": "13f46735",
   "metadata": {},
   "outputs": [
    {
     "name": "stdout",
     "output_type": "stream",
     "text": [
      "[33, 55, 11]\n"
     ]
    }
   ],
   "source": [
    "list1 = [11, 22, 33, 44, 55]\n",
    "list2 = [33, 55, 77, 99, 11]\n",
    "find_common_elements = lambda lst1, lst2: list(filter(lambda x: x in lst1, lst2))\n",
    "common_elements = find_common_elements(list1, list2)\n",
    "print(common_elements)"
   ]
  },
  {
   "cell_type": "code",
   "execution_count": null,
   "id": "95a4c475",
   "metadata": {},
   "outputs": [],
   "source": [
    "Que 11. Write a recursive function to calculate the factorial of a given positive integer.\n",
    "\n",
    "Answer = "
   ]
  },
  {
   "cell_type": "code",
   "execution_count": 15,
   "id": "4ebc2bd9",
   "metadata": {},
   "outputs": [
    {
     "name": "stdout",
     "output_type": "stream",
     "text": [
      "The factorial of 6 is: 720\n"
     ]
    }
   ],
   "source": [
    "def factorial(n):\n",
    "   \n",
    "    if n == 0 or n == 1:\n",
    "        return 1\n",
    "    else:\n",
    "        \n",
    "        return n * factorial(n - 1)\n",
    "\n",
    "number = 6\n",
    "result = factorial(number)\n",
    "\n",
    "print(f\"The factorial of {number} is: {result}\")"
   ]
  },
  {
   "cell_type": "markdown",
   "id": "2e8d3e3f",
   "metadata": {},
   "source": [
    "Que 12. Implement a recursive function to compute the nth Fibonacci number.\n",
    "\n",
    "Answer="
   ]
  },
  {
   "cell_type": "code",
   "execution_count": 16,
   "id": "c3ac25a6",
   "metadata": {},
   "outputs": [
    {
     "name": "stdout",
     "output_type": "stream",
     "text": [
      "The 6th Fibonacci number is: 8\n"
     ]
    }
   ],
   "source": [
    "def fibonacci(n):\n",
    "    if n == 0:\n",
    "        return 0\n",
    "    elif n == 1:\n",
    "        return 1\n",
    "    else:\n",
    "        return fibonacci(n - 1) + fibonacci(n - 2)\n",
    "\n",
    "n = 6\n",
    "result = fibonacci(n)\n",
    "\n",
    "print(f\"The {n}th Fibonacci number is: {result}\")"
   ]
  },
  {
   "cell_type": "code",
   "execution_count": null,
   "id": "8cd0e280",
   "metadata": {},
   "outputs": [],
   "source": [
    "Que 13. Create a recursive function to find the sum of all the elements in a given list.\n",
    "\n",
    "Answer="
   ]
  },
  {
   "cell_type": "code",
   "execution_count": 19,
   "id": "804b0b73",
   "metadata": {},
   "outputs": [
    {
     "name": "stdout",
     "output_type": "stream",
     "text": [
      "The sum of the elements in the list is: 22\n"
     ]
    }
   ],
   "source": [
    "def recursive_sum(lst):\n",
    "    if not lst:\n",
    "        return 0\n",
    "    else:\n",
    "        return lst[0] + recursive_sum(lst[1:])\n",
    "\n",
    "\n",
    "numbers = [4, 6, 3, 4, 5]\n",
    "result = recursive_sum(numbers)\n",
    "\n",
    "print(f\"The sum of the elements in the list is: {result}\")"
   ]
  },
  {
   "cell_type": "code",
   "execution_count": null,
   "id": "5c7c3184",
   "metadata": {},
   "outputs": [],
   "source": [
    "Que 14. Write a recursive function to determine whether a given string is a palindrome.\n",
    "\n",
    "Answer="
   ]
  },
  {
   "cell_type": "code",
   "execution_count": 20,
   "id": "1ca9e171",
   "metadata": {},
   "outputs": [
    {
     "name": "stdout",
     "output_type": "stream",
     "text": [
      "The string 'radar' is a palindrome.\n"
     ]
    }
   ],
   "source": [
    "def is_palindrome(s):\n",
    "    if len(s) <= 1:\n",
    "        return True\n",
    "    else:\n",
    "        # Recursive case: check if the first and last characters are equal\n",
    "        return s[0] == s[-1] and is_palindrome(s[1:-1])\n",
    "\n",
    "word = \"radar\"\n",
    "result = is_palindrome(word)\n",
    "\n",
    "if result:\n",
    "    print(f\"The string '{word}' is a palindrome.\")\n",
    "else:\n",
    "    print(f\"The string '{word}' is not a palindrome.\")"
   ]
  },
  {
   "cell_type": "code",
   "execution_count": null,
   "id": "bf046806",
   "metadata": {},
   "outputs": [],
   "source": [
    "Que 15. Implement a recursive function to find the greatest common divisor (GCD) of two positive integers.\n",
    "\n",
    "Answer="
   ]
  },
  {
   "cell_type": "code",
   "execution_count": 21,
   "id": "26c67a43",
   "metadata": {},
   "outputs": [
    {
     "name": "stdout",
     "output_type": "stream",
     "text": [
      "The GCD of 48 and 18 is: 6\n"
     ]
    }
   ],
   "source": [
    "def gcd(a, b):\n",
    "    if b == 0:\n",
    "        return a\n",
    "    else:\n",
    "        return gcd(b, a % b)\n",
    "\n",
    "num1 = 48\n",
    "num2 = 18\n",
    "result = gcd(num1, num2)\n",
    "\n",
    "print(f\"The GCD of {num1} and {num2} is: {result}\")"
   ]
  },
  {
   "cell_type": "code",
   "execution_count": null,
   "id": "83d276f5",
   "metadata": {},
   "outputs": [],
   "source": []
  }
 ],
 "metadata": {
  "kernelspec": {
   "display_name": "Python 3 (ipykernel)",
   "language": "python",
   "name": "python3"
  },
  "language_info": {
   "codemirror_mode": {
    "name": "ipython",
    "version": 3
   },
   "file_extension": ".py",
   "mimetype": "text/x-python",
   "name": "python",
   "nbconvert_exporter": "python",
   "pygments_lexer": "ipython3",
   "version": "3.11.4"
  }
 },
 "nbformat": 4,
 "nbformat_minor": 5
}
