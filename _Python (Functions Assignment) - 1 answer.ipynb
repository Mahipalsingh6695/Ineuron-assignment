{
 "cells": [
  {
   "cell_type": "markdown",
   "id": "6cb2dcab",
   "metadata": {},
   "source": [
    "Que 1. In Python, what is the difference between a built-in function and a user-defined function? Provide an\n",
    "example of each.\n",
    "\n",
    "Answer = \n",
    "* built-in function\n",
    "• built-in function is pre defined function of python for coding\n",
    "ex. - len(), print(), max(), min()\n",
    "* user -defined function \n",
    "•this function is defined by the user, user can create function rvery and each time\n",
    "ex. - this function is defined with \"def\"\n"
   ]
  },
  {
   "cell_type": "code",
   "execution_count": 4,
   "id": "905b49b5",
   "metadata": {},
   "outputs": [
    {
     "name": "stdout",
     "output_type": "stream",
     "text": [
      "The length of the list is: 5\n",
      "The sum is: 10\n"
     ]
    }
   ],
   "source": [
    "# built in function\n",
    "my_list = [1, 2, 3, 4, 5]\n",
    "length = len(my_list)\n",
    "print(f\"The length of the list is: {length}\")\n",
    "#user defind function\n",
    "def add_numbers(a, b):\n",
    "    result = a + b\n",
    "    return result\n",
    "sum_result = add_numbers(3, 7)\n",
    "print(f\"The sum is: {sum_result}\")"
   ]
  },
  {
   "cell_type": "markdown",
   "id": "84ebc3ca",
   "metadata": {},
   "source": [
    "Que 2. How can you pass arguments to a function in Python? Explain the difference between positional\n",
    "arguments and keyword arguments.\n",
    "\n",
    "Answer = \n",
    "• positional arguments\n",
    "Positional arguments are passed to a function based on their position or order in the function call.\n",
    "• keyword arguments\n",
    "Keyword arguments are passed to a function by explicitly mentioning the parameter names along with their corresponding values."
   ]
  },
  {
   "cell_type": "code",
   "execution_count": 9,
   "id": "2e396f03",
   "metadata": {},
   "outputs": [
    {
     "name": "stdout",
     "output_type": "stream",
     "text": [
      "The sum is: 6\n",
      "Hello, Mahipal! Namaste\n"
     ]
    }
   ],
   "source": [
    "def add_numbers(a, b, c):\n",
    "    result = a + b + c\n",
    "    return result\n",
    "\n",
    "# positional arguments\n",
    "sum_result = add_numbers(1, 2, 3)\n",
    "print(f\"The sum is: {sum_result}\")\n",
    "\n",
    "def greet(name, message):\n",
    "    print(f\"Hello, {name}! {message}\")\n",
    "\n",
    "# keyword arguments\n",
    "greet(message=\"Namaste\", name=\"Mahipal\")"
   ]
  },
  {
   "cell_type": "markdown",
   "id": "847ef782",
   "metadata": {},
   "source": [
    "Que 3. What is the purpose of the return statement in a function? Can a function have multiple return\n",
    "statements? Explain with an example.\n",
    "\n",
    "Answer= function show the return output  When a return statement is encountered, the function execution stops, and the specified value is returned to the caller."
   ]
  },
  {
   "cell_type": "code",
   "execution_count": 12,
   "id": "245c164b",
   "metadata": {},
   "outputs": [
    {
     "name": "stdout",
     "output_type": "stream",
     "text": [
      "5 is greater than 3\n"
     ]
    }
   ],
   "source": [
    "def compare_numbers(a, b):\n",
    "    if a > b:\n",
    "        return f\"{a} is greater than {b}\"\n",
    "    elif a < b:\n",
    "        return f\"{a} is less than {b}\"\n",
    "    else:\n",
    "        return f\"{a} is equal to {b}\"\n",
    "result  = compare_numbers(5, 3)\n",
    "print(result1)"
   ]
  },
  {
   "cell_type": "markdown",
   "id": "0b3129ad",
   "metadata": {},
   "source": [
    "Que 4. What are lambda functions in Python? How are they different from regular functions? Provide an\n",
    "example where a lambda function can be useful.\n",
    "\n",
    "Answer = lamada function is  anonymous functions it is non defined function use for \n",
    "\n",
    "Single Expression\n",
    "syntax"
   ]
  },
  {
   "cell_type": "markdown",
   "id": "f7108783",
   "metadata": {},
   "source": [
    "square_lambda = lambda x: x ** 2\n",
    "result_lambda = square_lambda(5)\n",
    "print(result_lambda"
   ]
  },
  {
   "cell_type": "markdown",
   "id": "7c38a2f6",
   "metadata": {},
   "source": [
    "Que 5. How does the concept of \"scope\" apply to functions in Python? Explain the difference between local\n",
    "scope and global scope.\n",
    "\n",
    "Answer = \n",
    "In Python, the concept of \"scope\" refers to the region of a program where a variable is recognized or can be accessed.\n",
    "\n",
    "local scope are those scope those can defined in local function and used this in program in local function\n",
    "global scope are those scope that we can use these in globally "
   ]
  },
  {
   "cell_type": "code",
   "execution_count": 15,
   "id": "f847f0e1",
   "metadata": {},
   "outputs": [
    {
     "name": "stdout",
     "output_type": "stream",
     "text": [
      "10\n",
      "20\n"
     ]
    }
   ],
   "source": [
    "#local scope\n",
    "\n",
    "def my_function():\n",
    "    local_variable = 10\n",
    "    print(local_variable)\n",
    "\n",
    "my_function()\n",
    "#global variable\n",
    "global_variable = 20\n",
    "\n",
    "def another_function():\n",
    "    print(global_variable)\n",
    "\n",
    "another_function()"
   ]
  },
  {
   "cell_type": "markdown",
   "id": "b27968b9",
   "metadata": {},
   "source": [
    "6. How can you use the \"return\" statement in a Python function to return multiple values?\n",
    "\n",
    "Answer = \n",
    "we can use the return statement to return multiple values from a function by separating them with commas. The values are then returned as a tuple. \n"
   ]
  },
  {
   "cell_type": "code",
   "execution_count": 16,
   "id": "8a669972",
   "metadata": {},
   "outputs": [
    {
     "name": "stdout",
     "output_type": "stream",
     "text": [
      "(9, 27)\n"
     ]
    }
   ],
   "source": [
    "def get_square_and_cube(x):\n",
    "    square = x ** 2\n",
    "    cube = x ** 3\n",
    "    return square, cube\n",
    "\n",
    "# Calling the function and receiving multiple values\n",
    "result = get_square_and_cube(3)\n",
    "print(result)"
   ]
  },
  {
   "cell_type": "code",
   "execution_count": null,
   "id": "b9655447",
   "metadata": {},
   "outputs": [],
   "source": [
    "Que 7. What is the difference between the \"pass by value\" and \"pass by reference\" concepts when it\n",
    "comes to function arguments in Python?\n",
    "\n",
    "Answer = \n",
    "• In a \"pass by value\" system, the actual value of the variable is passed to the function.\n",
    "• In a \"pass by reference\" system, a reference to the memory location of the variable is passed to the function"
   ]
  },
  {
   "cell_type": "code",
   "execution_count": 19,
   "id": "fa8b745b",
   "metadata": {},
   "outputs": [
    {
     "name": "stdout",
     "output_type": "stream",
     "text": [
      "5\n",
      "[1, 2, 3, 4]\n"
     ]
    }
   ],
   "source": [
    "#pass by value\n",
    "def modify_value(x):\n",
    "    x = x + 1\n",
    "\n",
    "num = 5\n",
    "modify_value(num)\n",
    "print(num)\n",
    "#pass by refereance\n",
    "def modify_reference(lst):\n",
    "    lst.append(4)\n",
    "\n",
    "my_list = [1, 2, 3]\n",
    "modify_reference(my_list)\n",
    "print(my_list) \n"
   ]
  },
  {
   "cell_type": "code",
   "execution_count": null,
   "id": "8df8b5dd",
   "metadata": {},
   "outputs": [],
   "source": [
    "8. Create a function that can intake integer or decimal value and do following operations:\n",
    "a. Logarithmic function (log x)\n",
    "b. Exponential function (exp(x))\n",
    "c. Power function with base 2 (2x)\n",
    "d. Square root"
   ]
  },
  {
   "cell_type": "code",
   "execution_count": 20,
   "id": "5eef3797",
   "metadata": {},
   "outputs": [
    {
     "name": "stdout",
     "output_type": "stream",
     "text": [
      "Logarithmic Function (log x): 1.3862943611198906\n",
      "Exponential Function (exp(x)): 54.598150033144236\n",
      "Power Function with Base 2 (2^x): 16.0\n",
      "Square Root: 2.0\n"
     ]
    }
   ],
   "source": [
    "import math\n",
    "\n",
    "def math_operations(x):\n",
    "   \n",
    "    logarithmic_result = math.log(x)\n",
    "\n",
    "   \n",
    "    exponential_result = math.exp(x)\n",
    "\n",
    "    \n",
    "    power_result = math.pow(2, x)\n",
    "\n",
    "   \n",
    "    square_root_result = math.sqrt(x)\n",
    "\n",
    "   \n",
    "    return {\n",
    "        'Logarithmic Function (log x)': logarithmic_result,\n",
    "        'Exponential Function (exp(x))': exponential_result,\n",
    "        'Power Function with Base 2 (2^x)': power_result,\n",
    "        'Square Root': square_root_result\n",
    "    }\n",
    "\n",
    "\n",
    "input_value = 4.0\n",
    "results = math_operations(input_value)\n",
    "\n",
    "for operation, result in results.items():\n",
    "    print(f\"{operation}: {result}\")"
   ]
  },
  {
   "cell_type": "code",
   "execution_count": null,
   "id": "12c5eb8c",
   "metadata": {},
   "outputs": [],
   "source": [
    "Que 9. Create a function that takes a full name as an argument and returns first name and last name."
   ]
  },
  {
   "cell_type": "code",
   "execution_count": 2,
   "id": "dbdec0ac",
   "metadata": {},
   "outputs": [
    {
     "name": "stdout",
     "output_type": "stream",
     "text": [
      "First Name: Mahipal\n",
      "Last Name: singh\n"
     ]
    }
   ],
   "source": [
    "def extract_names(full_name):\n",
    "    # Splitting the full name into first name and last name\n",
    "    names = full_name.split()\n",
    "\n",
    "    # Handling cases where there might be only one name or more than two names\n",
    "    if len(names) == 1:\n",
    "        first_name = names[0]\n",
    "        last_name = \"\"\n",
    "    elif len(names) == 2:\n",
    "        first_name, last_name = names\n",
    "    else:\n",
    "        # If there are more than two names, consider the first as the first name and the rest as the last name\n",
    "        first_name = names[0]\n",
    "        last_name = \" \".join(names[1:])\n",
    "\n",
    "    return {\n",
    "        'First Name': first_name,\n",
    "        'Last Name': last_name\n",
    "    }\n",
    "\n",
    "# Example usage:\n",
    "full_name_input = \"Mahipal singh\"\n",
    "names_result = extract_names(full_name_input)\n",
    "\n",
    "# Displaying the results\n",
    "for name_type, name in names_result.items():\n",
    "    print(f\"{name_type}: {name}\")"
   ]
  },
  {
   "cell_type": "code",
   "execution_count": null,
   "id": "6fcb9098",
   "metadata": {},
   "outputs": [],
   "source": []
  }
 ],
 "metadata": {
  "kernelspec": {
   "display_name": "Python 3 (ipykernel)",
   "language": "python",
   "name": "python3"
  },
  "language_info": {
   "codemirror_mode": {
    "name": "ipython",
    "version": 3
   },
   "file_extension": ".py",
   "mimetype": "text/x-python",
   "name": "python",
   "nbconvert_exporter": "python",
   "pygments_lexer": "ipython3",
   "version": "3.11.4"
  }
 },
 "nbformat": 4,
 "nbformat_minor": 5
}
