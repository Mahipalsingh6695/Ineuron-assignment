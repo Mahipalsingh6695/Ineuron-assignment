{
 "cells": [
  {
   "cell_type": "markdown",
   "id": "6fa7b526",
   "metadata": {},
   "source": [
    "Que 1.What does an empty dictionary's code look like?\n",
    "\n",
    "Answer: An empty dictionary is often represented by two empty curly brackets\n",
    "d = {} or d = dict()"
   ]
  },
  {
   "cell_type": "markdown",
   "id": "1a0dda7b",
   "metadata": {},
   "source": [
    "Que 2.what is the value of dictionary value with key 'foo' and the value 42 ?\n",
    "\n",
    "Ans: {'foo':42}"
   ]
  },
  {
   "cell_type": "markdown",
   "id": "a9287096",
   "metadata": {},
   "source": [
    "3.What is the most significant distinction between a dictionary and a list?\n",
    "\n",
    "Ans: Dictionaries are represented by {} where as listed are represented by []\n",
    "The Items stored in a dictionary are Unordered , while the items in a list are ordered\n",
    "dictionaries also have key and value feature which we can use list don't have a key-value "
   ]
  },
  {
   "cell_type": "markdown",
   "id": "1811387d",
   "metadata": {},
   "source": [
    "Que 4.What happens if you try to access spam ['foo'] if spam is {'bar':100} ?\n",
    "\n",
    "Answer: we will get a keyError KeyError: 'foo'"
   ]
  },
  {
   "cell_type": "markdown",
   "id": "5c09c0fb",
   "metadata": {},
   "source": [
    "Que 5.if a dictionary is stored in spam,what is the difference between the expressions 'cat' in spam and 'cat' in spam.keys() ?\n",
    "\n",
    "Answer: There is no difference . The operator checks whether a value exits as a key in the dictionary or not"
   ]
  },
  {
   "cell_type": "markdown",
   "id": "79e6868a",
   "metadata": {},
   "source": [
    "Que 6.if a dictionary is stored in spam,what is the difference between the expressions 'cat' in spam and 'cat' in spam.values() ?\n",
    "\n",
    "Answer:'cat' in spam checks whether there is a 'cat' key in the dictionary, while 'cat' in spam.values() checks whether there is a value 'cat' for one of the keys in spam.\n",
    "both cat have a keys in whether i check"
   ]
  },
  {
   "cell_type": "markdown",
   "id": "ea863ce4",
   "metadata": {},
   "source": [
    "Que 7.what is a shortcut for the following code ?\n",
    "if 'color' not in spam: spam['color'] ='black'\n",
    "\n",
    "Answer: spam.setdefault('color','black')"
   ]
  },
  {
   "cell_type": "markdown",
   "id": "40b2bf1e",
   "metadata": {},
   "source": [
    "Que 8.How do you 'pretty print' dictionary values using which modules and function ?\n",
    "\n",
    "Answer: pretty print a dictionary using three functions\n",
    "\n",
    "•by using pprint() function of pprint module\n",
    "\n",
    "•by using dumps() method of json module\n",
    "\n",
    "•by using dumps() method of yaml module"
   ]
  },
  {
   "cell_type": "code",
   "execution_count": 5,
   "id": "3439521a",
   "metadata": {},
   "outputs": [
    {
     "name": "stdout",
     "output_type": "stream",
     "text": [
      " use print() function\n",
      " [{'Name': 'Mahipal', 'Age': '28', 'Residence': {'Country': 'India', 'City': 'bhim'}}, {'Name': 'Ravindra', 'Age': '29', 'Residence': {'Country': 'India', 'City': 'Taragarh'}}, {'Name': 'Manjit', 'Age': '27', 'Residence': {'Country': 'India', 'City': 'kot-kirana'}}, {'Name': 'Ankit', 'Age': '24', 'Residence': {'Country': 'India', 'City': 'UP'}}]\n",
      "----------------------------------------------------------------------\n",
      "use  pprint() funciton\n",
      "[{'Age': '28',\n",
      "  'Name': 'Mahipal',\n",
      "  'Residence': {'City': 'bhim', 'Country': 'India'}},\n",
      " {'Age': '29',\n",
      "  'Name': 'Ravindra',\n",
      "  'Residence': {'City': 'Taragarh', 'Country': 'India'}},\n",
      " {'Age': '27',\n",
      "  'Name': 'Manjit',\n",
      "  'Residence': {'City': 'kot-kirana', 'Country': 'India'}},\n",
      " {'Age': '24',\n",
      "  'Name': 'Ankit',\n",
      "  'Residence': {'City': 'UP', 'Country': 'India'}}]\n",
      "----------------------------------------------------------------------\n",
      "use  dumps() method\n",
      " [\n",
      "    {\n",
      "        \"Name\": \"Mahipal\",\n",
      "        \"Age\": \"28\",\n",
      "        \"Residence\": {\n",
      "            \"Country\": \"India\",\n",
      "            \"City\": \"bhim\"\n",
      "        }\n",
      "    },\n",
      "    {\n",
      "        \"Name\": \"Ravindra\",\n",
      "        \"Age\": \"29\",\n",
      "        \"Residence\": {\n",
      "            \"Country\": \"India\",\n",
      "            \"City\": \"Taragarh\"\n",
      "        }\n",
      "    },\n",
      "    {\n",
      "        \"Name\": \"Manjit\",\n",
      "        \"Age\": \"27\",\n",
      "        \"Residence\": {\n",
      "            \"Country\": \"India\",\n",
      "            \"City\": \"kot-kirana\"\n",
      "        }\n",
      "    },\n",
      "    {\n",
      "        \"Name\": \"Ankit\",\n",
      "        \"Age\": \"24\",\n",
      "        \"Residence\": {\n",
      "            \"Country\": \"India\",\n",
      "            \"City\": \"UP\"\n",
      "        }\n",
      "    }\n",
      "]\n",
      "----------------------------------------------------------------------\n",
      "use  dump() method\n",
      " - Age: '28'\n",
      "  Name: Mahipal\n",
      "  Residence:\n",
      "    City: bhim\n",
      "    Country: India\n",
      "- Age: '29'\n",
      "  Name: Ravindra\n",
      "  Residence:\n",
      "    City: Taragarh\n",
      "    Country: India\n",
      "- Age: '27'\n",
      "  Name: Manjit\n",
      "  Residence:\n",
      "    City: kot-kirana\n",
      "    Country: India\n",
      "- Age: '24'\n",
      "  Name: Ankit\n",
      "  Residence:\n",
      "    City: UP\n",
      "    Country: India\n",
      "\n"
     ]
    }
   ],
   "source": [
    "Mdict = [\n",
    "  {'Name': 'Mahipal', 'Age': '28', 'Residence': {'Country':'India', 'City': 'bhim'}},\n",
    "  {'Name': 'Ravindra', 'Age': '29', 'Residence': {'Country':'India', 'City': 'Taragarh'}},\n",
    "  {'Name': 'Manjit', 'Age': '27', 'Residence': {'Country':'India', 'City': 'kot-kirana'}},\n",
    "  {'Name': 'Ankit', 'Age': '24', 'Residence': {'Country':'India', 'City': 'UP'}}\n",
    "]\n",
    "\n",
    "print(' use print() function\\n',Mdict)\n",
    "print('-'*70)\n",
    "import pprint\n",
    "print('use  pprint() funciton')\n",
    "pprint.pprint(Mdict)\n",
    "print('-'*70)\n",
    "import json\n",
    "dump = json.dumps(Mdict, indent=4)\n",
    "print('use  dumps() method\\n', dump)\n",
    "print('-'*70)\n",
    "import yaml\n",
    "dump = yaml.dump(Mdict)\n",
    "print('use  dump() method\\n', dump)"
   ]
  },
  {
   "cell_type": "code",
   "execution_count": null,
   "id": "8da7b0f0",
   "metadata": {},
   "outputs": [],
   "source": []
  }
 ],
 "metadata": {
  "kernelspec": {
   "display_name": "Python 3 (ipykernel)",
   "language": "python",
   "name": "python3"
  },
  "language_info": {
   "codemirror_mode": {
    "name": "ipython",
    "version": 3
   },
   "file_extension": ".py",
   "mimetype": "text/x-python",
   "name": "python",
   "nbconvert_exporter": "python",
   "pygments_lexer": "ipython3",
   "version": "3.11.4"
  }
 },
 "nbformat": 4,
 "nbformat_minor": 5
}
