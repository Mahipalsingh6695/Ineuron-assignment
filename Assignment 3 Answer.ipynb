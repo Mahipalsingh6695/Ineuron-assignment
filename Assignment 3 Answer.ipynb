{
 "cells": [
  {
   "cell_type": "markdown",
   "id": "fa4c4253",
   "metadata": {},
   "source": [
    "Que. 1. Why are functions advantageous to have in your programs?\n",
    "\n",
    "Answer=functions is important fundamental from functions we define code once and use multiple time in project function is code duplication removed , improved readbility, save time flexible,manageble function is good method to make work easy"
   ]
  },
  {
   "cell_type": "markdown",
   "id": "3f3c83ea",
   "metadata": {},
   "source": [
    "Que 2. When does the code in a function run: when it's specified or when it's called?\n",
    "Answer: The code in a function executes when the function is called, not when the function is specified.\n",
    "run function is excute the function in model"
   ]
  },
  {
   "cell_type": "markdown",
   "id": "4ab93ccc",
   "metadata": {},
   "source": [
    "Que 3. What statement creates a function?\n",
    "\n",
    "Answer=\"def\" word state the function\n",
    "after that we use much thing in it and multiple parameter we define \n"
   ]
  },
  {
   "cell_type": "code",
   "execution_count": 2,
   "id": "cab2e4ec",
   "metadata": {},
   "outputs": [
    {
     "name": "stdout",
     "output_type": "stream",
     "text": [
      "30\n"
     ]
    }
   ],
   "source": [
    "def subtractNum():\n",
    "    print(34 - 4)\n",
    "\n",
    "subtractNum()"
   ]
  },
  {
   "cell_type": "markdown",
   "id": "4940d480",
   "metadata": {},
   "source": [
    "Que 4. What is the difference between a function and a function call?\n",
    "Answer: funtion is a defination and process A function is procedure to achieve a particular result. while function call is using this function to achive that task. Using a function to do a particular task any point in program is called as function call."
   ]
  },
  {
   "cell_type": "markdown",
   "id": "7a618ce7",
   "metadata": {},
   "source": [
    "Que. 5. How many global scopes are there in a Python program? How many local scopes?\n",
    "\n",
    "Answer: There is one global scope, and a local scope is created whenever a function is called."
   ]
  },
  {
   "cell_type": "code",
   "execution_count": 5,
   "id": "9a9ec001",
   "metadata": {},
   "outputs": [
    {
     "name": "stdout",
     "output_type": "stream",
     "text": [
      "5\n"
     ]
    }
   ],
   "source": [
    "def my_function():\n",
    "  global x\n",
    "  x = 5\n",
    "\n",
    "my_function()\n",
    "print(x)"
   ]
  },
  {
   "cell_type": "markdown",
   "id": "66c77f9c",
   "metadata": {},
   "source": [
    "Que6. What happens to variables in a local scope when the function call returns?\n",
    "\n",
    "Answer: return destroyed all local variable ,When a function returns, the local scope is destroyed, and all the variables in it are forgotten"
   ]
  },
  {
   "cell_type": "markdown",
   "id": "1db2e57f",
   "metadata": {},
   "source": [
    "Que 7. What is the concept of a return value? Is it possible to have a return value in an expression?\n",
    "\n",
    "Ans: A return value is the value that a function call evaluates to. Like any value, a return value can be used as part of an expression."
   ]
  },
  {
   "cell_type": "markdown",
   "id": "96fa9697",
   "metadata": {},
   "source": [
    "Que 8. If a function does not have a return statement, what is the return value of a call to that function?\n",
    "\n",
    "Answer : If there is no return statement for a function, You can omit the return value of a function and use a bare return without a return value. You can also omit the entire return statement. In both cases, the return value will be None."
   ]
  },
  {
   "cell_type": "markdown",
   "id": "48c759b4",
   "metadata": {},
   "source": [
    "Que 9. How do you make a function variable refer to the global variable?\n",
    "Answer: A global statement will force a variable in a function to refer to the global variable. If you want to refer to a global variable in a function, you can use the global keyword to declare which variables are global."
   ]
  },
  {
   "cell_type": "markdown",
   "id": "0db89a9b",
   "metadata": {},
   "source": [
    "Que 10. What is the data type of None?\n",
    "\n",
    "Answer: The data type of None is NoneType."
   ]
  },
  {
   "cell_type": "markdown",
   "id": "4fe642ea",
   "metadata": {},
   "source": [
    "Que 11. What does the sentence import areallyourpetsnamederic do?\n",
    "\n",
    "Answer : That import statement imports a module named areallyourpetsnamederic."
   ]
  },
  {
   "cell_type": "markdown",
   "id": "a2643be8",
   "metadata": {},
   "source": [
    "Que 12. If you had a bacon() feature in a spam module, what would you call it after importing spam?\n",
    "\n",
    "Answer: This function is called with spam.bacon()."
   ]
  },
  {
   "cell_type": "markdown",
   "id": "89496d61",
   "metadata": {},
   "source": [
    "Que 13. What can you do to save a programme from crashing if it encounters an error?\n",
    "\n",
    "Answer: Place the line of code that might cause an error in a try clause and use except block to handle the error."
   ]
  },
  {
   "cell_type": "markdown",
   "id": "67eb6514",
   "metadata": {},
   "source": [
    "Que 14. What is the purpose of the try clause? What is the purpose of the except clause?\n",
    "\n",
    "Answer : The code that could potentially cause an error goes in the try clause. The code that executes if an error happens goes in the except clause."
   ]
  }
 ],
 "metadata": {
  "kernelspec": {
   "display_name": "Python 3 (ipykernel)",
   "language": "python",
   "name": "python3"
  },
  "language_info": {
   "codemirror_mode": {
    "name": "ipython",
    "version": 3
   },
   "file_extension": ".py",
   "mimetype": "text/x-python",
   "name": "python",
   "nbconvert_exporter": "python",
   "pygments_lexer": "ipython3",
   "version": "3.11.4"
  }
 },
 "nbformat": 4,
 "nbformat_minor": 5
}
