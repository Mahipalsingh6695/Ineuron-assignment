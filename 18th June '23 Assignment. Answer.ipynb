{
 "cells": [
  {
   "cell_type": "markdown",
   "id": "b3bf2fa0",
   "metadata": {},
   "source": [
    "Que 1. What is the role of the 'else' block in a try-except statement? Provide an example\n",
    "scenario where it would be useful.\n",
    "\n",
    "answer = the else block is executed when the code within the try block runs successfully without raising any exceptions."
   ]
  },
  {
   "cell_type": "code",
   "execution_count": 1,
   "id": "57ac86f1",
   "metadata": {},
   "outputs": [
    {
     "name": "stdout",
     "output_type": "stream",
     "text": [
      "Enter the numerator: 25\n",
      "Enter the denominator: 0\n",
      "Error: Division by zero is not allowed.\n"
     ]
    }
   ],
   "source": [
    "def divide_numbers():\n",
    "    try:\n",
    "        numerator = float(input(\"Enter the numerator: \"))\n",
    "        denominator = float(input(\"Enter the denominator: \"))\n",
    "        result = numerator / denominator\n",
    "    except ZeroDivisionError:\n",
    "        print(\"Error: Division by zero is not allowed.\")\n",
    "    except ValueError:\n",
    "        print(\"Error: Please enter valid numeric values.\")\n",
    "    else:\n",
    "        print(f\"The result of division is: {result}\")\n",
    "\n",
    "divide_numbers()\n"
   ]
  },
  {
   "cell_type": "markdown",
   "id": "86ab9019",
   "metadata": {},
   "source": [
    "Que 2. Can a try-except block be nested inside another try-except block? Explain with an\n",
    "example.\n",
    "\n",
    "Answer = \n",
    "Yes, a try-except block can be nested inside another try-except block. This nesting allows for more granular exception handling, where different levels of code can handle specific exceptions independently."
   ]
  },
  {
   "cell_type": "code",
   "execution_count": null,
   "id": "85ceb09d",
   "metadata": {},
   "outputs": [],
   "source": [
    "def nested_exception_handling():\n",
    "    try:\n",
    "        numerator = float(input(\"Enter the numerator: \"))\n",
    "        denominator = float(input(\"Enter the denominator: \"))\n",
    "        \n",
    "        try:\n",
    "            result = numerator / denominator\n",
    "            print(f\"The result of division is: {result}\")\n",
    "            \n",
    "        except ZeroDivisionError:\n",
    "            print(\"Error: Division by zero is not allowed in the inner block.\")\n",
    "            \n",
    "        except ValueError:\n",
    "            print(\"Error: Please enter valid numeric values in the inner block.\")\n",
    "            \n",
    "    except ValueError:\n",
    "        print(\"Error: Please enter valid numeric values in the outer block.\")\n",
    "        \n",
    "    except Exception as e:\n",
    "        print(f\"An unexpected error occurred in the outer block: {e}\")\n",
    "\n",
    "nested_exception_handling()\n"
   ]
  },
  {
   "cell_type": "markdown",
   "id": "d93ed9c2",
   "metadata": {},
   "source": [
    "Que 3 3. How can you create a custom exception class in Python? Provide an example that\n",
    "demonstrates its usage.\n",
    "\n",
    "Answer =\n",
    "In Python, we can create a custom exception class by defining a new class that inherits from the built-in Exception class or one of its subclasses\n",
    "usages:\n",
    "Creating custom exception classes is helpful when you want to signal specific error conditions in your application and provide more context or information about the error. It also allows you to handle different types of errors in a more structured and specific manner."
   ]
  },
  {
   "cell_type": "code",
   "execution_count": null,
   "id": "c8893536",
   "metadata": {},
   "outputs": [],
   "source": [
    "class CustomError(Exception):\n",
    "    \"\"\"Custom exception class.\"\"\"\n",
    "    def __init__(self, message=\"Custom error occurred\"):\n",
    "        self.message = message\n",
    "        super().__init__(self.message)\n",
    "\n",
    "def example_function(value):\n",
    "    try:\n",
    "        if value < 0:\n",
    "            raise CustomError(\"Negative values are not allowed\")\n",
    "    except CustomError as ce:\n",
    "        print(f\"Caught a custom exception: {ce}\")\n",
    "    except Exception as e:\n",
    "        print(f\"An unexpected error occurred: {e}\")\n",
    "\n",
    "try:\n",
    "    example_function(-5)\n",
    "except CustomError as ce:\n",
    "    print(f\"Caught the custom exception outside the function: {ce}\")\n"
   ]
  },
  {
   "cell_type": "code",
   "execution_count": null,
   "id": "00ff868a",
   "metadata": {},
   "outputs": [],
   "source": [
    "Que 4. What are some common exceptions that are built-in to Python?\n",
    "\n",
    "Answer =\n",
    "\n",
    "SyntaxError:\n",
    "\n",
    "Raised when there is a syntax error in the code.\n",
    "IndentationError:\n",
    "\n",
    "Subclass of SyntaxError, raised when indentation is incorrect.\n",
    "TypeError:\n",
    "\n",
    "Raised when an operation or function is applied to an object of an inappropriate type.\n",
    "NameError:\n",
    "\n",
    "Raised when a local or global name is not found.\n",
    "ValueError:\n",
    "\n",
    "Raised when a built-in operation or function receives an argument of the correct type but an inappropriate value.\n",
    "ZeroDivisionError:\n",
    "\n",
    "Raised when division or modulo operation is performed with zero as the denominator.\n",
    "FileNotFoundError:\n",
    "\n",
    "Raised when a file or directory is requested but cannot be found.\n",
    "IndexError:\n",
    "\n",
    "Raised when a sequence subscript is out of range.\n",
    "KeyError:\n",
    "\n",
    "Raised when a dictionary key is not found.\n",
    "AttributeError:\n",
    "\n",
    "Raised when an attribute reference or assignment fails.\n",
    "ImportError:\n",
    "\n",
    "Raised when an import statement cannot find the specified module or name.\n",
    "RuntimeError:\n",
    "\n",
    "Raised when an error occurs that doesn't fall into any of the other categories.\n",
    "MemoryError:\n",
    "\n",
    "Raised when an operation runs out of memory.\n",
    "OverflowError:\n",
    "\n",
    "Raised when the result of an arithmetic operation is too large to be represented.\n",
    "FileExistsError:\n",
    "\n",
    "Raised when trying to create a file or directory that already exists.\n",
    "PermissionError:\n",
    "\n",
    "Raised when trying to open a file or perform an operation that requires additional permissions."
   ]
  },
  {
   "cell_type": "markdown",
   "id": "d0cd3ad7",
   "metadata": {},
   "source": [
    "Que 5. What is logging in Python, and why is it important in software development?\n",
    "\n",
    "Answer = \n",
    "\n",
    "Logging in Python is a mechanism for recording and tracking events, messages, or information during the execution of a program\n",
    "\n",
    "•Logging is important\n",
    "1.Debugging and Troubleshooting:\n",
    "\n",
    "Logs provide a valuable source of information for debugging and troubleshooting. Developers can examine log messages to understand the flow of the program, identify errors, and trace the execution path.\n",
    "2.Monitoring and Performance:\n",
    "\n",
    "Logging allows developers to monitor the performance of an application by tracking events such as the duration of specific operations or the frequency of certain events.\n",
    "3.Auditing and Security:\n",
    "\n",
    "Logs can be used for auditing purposes to track user activities, system events, or security-related information. This is crucial for maintaining the security and integrity of an application.\n",
    "4.Error Reporting:\n",
    "\n",
    "Logs capture errors and exceptions that occur during the execution of a program. This information is valuable for diagnosing issues and improving the overall stability of the software.\n",
    "5.Code Instrumentation:\n",
    "\n",
    "Logging can serve as a form of code instrumentation, helping developers understand the behavior of their code in different scenarios and environments.\n",
    "6.Release and Deployment:\n",
    "\n",
    "Logs can be used to track the deployment process and record information about the version of the software currently running."
   ]
  },
  {
   "cell_type": "markdown",
   "id": "05ec79af",
   "metadata": {},
   "source": [
    "Que 6. Explain the purpose of log levels in Python logging and provide examples of when\n",
    "each log level would be appropriate.\n",
    "\n",
    "Answer = \n",
    "DEBUG: Detailed information, typically used for debugging purposes. Messages at this level provide the most detailed insights into the internal workings of the application.\n",
    "\n",
    "INFO: General information about the application's operation. This level is used to confirm that things are working as expected and to provide high-level insights into the application's behavior.\n",
    "\n",
    "WARNING: Indicates that something unexpected happened or an issue might occur in the future. The application can continue its normal operation, but the warning suggests a potential problem that should be investigated.\n",
    "\n",
    "ERROR: Indicates a more serious issue that prevents the application from performing a specific operation. The application can still continue running, but the error should be addressed.\n",
    "\n",
    "CRITICAL: The most severe level, indicating a critical error or a condition that might lead to the termination of the application. This level is reserved for very severe errors that require immediate attention."
   ]
  },
  {
   "cell_type": "code",
   "execution_count": null,
   "id": "51073c7a",
   "metadata": {},
   "outputs": [],
   "source": [
    "#debug\n",
    "import logging\n",
    "\n",
    "logging.debug('This is a debug message with detailed information.')\n",
    "#Info\n",
    "import logging\n",
    "\n",
    "logging.info('Application started successfully.')\n",
    "#Warning\n",
    "import logging\n",
    "\n",
    "logging.warning('This is a warning message indicating a potential issue.')\n",
    "#Error\n",
    "import logging\n",
    "\n",
    "try:\n",
    "except Exception as e:\n",
    "    logging.error(f'An error occurred: {e}')\n",
    "#Critical\n",
    "import logging\n",
    "\n",
    "logging.critical('This is a critical error. Application cannot continue.')\n"
   ]
  },
  {
   "cell_type": "markdown",
   "id": "61164b26",
   "metadata": {},
   "source": [
    "Que 7. What are log formatters in Python logging, and how can you customise the log\n",
    "message format using formatters?\n",
    "\n",
    "Answer = \n",
    "Log formatters in Python logging are objects responsible for defining the structure and content of log messages\n",
    "The Formatter class in the logging module provides a way to customize the log message format. When creating a logger or a handler, you can specify a formatter to be used for formatting log messages."
   ]
  },
  {
   "cell_type": "code",
   "execution_count": 2,
   "id": "ac72f846",
   "metadata": {},
   "outputs": [],
   "source": [
    "import logging\n",
    "\n",
    "custom_formatter = logging.Formatter('%(asctime)s - %(levelname)s - %(message)s')\n",
    "\n",
    "logger = logging.getLogger('example_logger')\n",
    "file_handler = logging.FileHandler('example.log')\n",
    "file_handler.setFormatter(custom_formatter)\n",
    "logger.addHandler(file_handler)\n",
    "\n",
    "logger.setLevel(logging.INFO)\n",
    "logger.info('This is an info message.')\n",
    "logger.warning('This is a warning message.')\n"
   ]
  },
  {
   "cell_type": "code",
   "execution_count": null,
   "id": "9b1a0bec",
   "metadata": {},
   "outputs": [],
   "source": [
    "Que 8. How can you set up logging to capture log messages from multiple modules or\n",
    "classes in a Python application?\n",
    "\n",
    "Answer = \n",
    "The logging module provides a way to configure logging at the root level, and child loggers inherit these settings.\n",
    "•Centralized Logging Configuration\n",
    "•Create Loggers in Modules or Classes\n",
    "•Log Messages Using the Logger\n",
    "•Run the Application"
   ]
  },
  {
   "cell_type": "code",
   "execution_count": null,
   "id": "75b09ddd",
   "metadata": {},
   "outputs": [],
   "source": [
    "#Centralized Logging Configuration\n",
    "import logging\n",
    "\n",
    "logging.basicConfig(level=logging.DEBUG, format='%(asctime)s - %(name)s - %(levelname)s - %(message)s')\n"
   ]
  },
  {
   "cell_type": "code",
   "execution_count": null,
   "id": "6cdbf719",
   "metadata": {},
   "outputs": [],
   "source": [
    "#Create Loggers in Modules or Classes\n",
    "import logging\n",
    "\n",
    "logger = logging.getLogger(__name__)\n",
    "\n",
    "def some_function():\n",
    "    logger.debug('This is a debug message from some_function.')\n"
   ]
  },
  {
   "cell_type": "code",
   "execution_count": null,
   "id": "ccf1a126",
   "metadata": {},
   "outputs": [],
   "source": [
    "#Log Messages Using the Logger\n",
    "import logging\n",
    "\n",
    "logger = logging.getLogger(__name__)\n",
    "\n",
    "def module1_function():\n",
    "    logger.info('This is an info message from Module 1.')\n"
   ]
  },
  {
   "cell_type": "code",
   "execution_count": null,
   "id": "0cde9e60",
   "metadata": {},
   "outputs": [],
   "source": [
    "#Run the Application\n",
    "import module1\n",
    "import module2\n",
    "\n",
    "module1.module1_function()\n",
    "module2.module2_function()\n"
   ]
  },
  {
   "cell_type": "markdown",
   "id": "c05482f5",
   "metadata": {},
   "source": [
    "Que 9. What is the difference between the logging and print statements in Python? When\n",
    "should you use logging over print statements in a real-world application?\n",
    "\n",
    "Answer = \n",
    "{Logging}---------------\n",
    "\n",
    "Purpose: Logging is a more flexible and feature-rich approach designed for capturing and managing application events, errors, and messages systematically.\n",
    "\n",
    "Levels: Logging supports different log levels (DEBUG, INFO, WARNING, ERROR, CRITICAL), allowing you to control the verbosity of log messages.\n",
    "\n",
    "Configuration: Logging can be configured centrally, allowing you to control the log levels, output destinations (e.g., console, files), and log message format in one place.\n",
    "Handlers and Formatters: Logging provides handlers and formatters to customize how log messages are processed and formatted.\n",
    "\n",
    "Granular Control: Logging allows you to log messages from various parts of your application and control the logging behavior globally.\n",
    "\n",
    "Integration: Logging is often used in larger applications, especially in server-side, backend, or long-running processes.\n",
    "\n",
    "{Print Statements}----------------\n",
    "\n",
    "Purpose: Print statements are primarily used for simple and quick debugging or displaying information to the console during development.\n",
    "\n",
    "Levels: Print statements don't have different levels; they simply output text to the console.\n",
    "\n",
    "Configuration: Print statements are not configurable; they output information directly to the console.\n",
    "Limited Features: Print statements lack the features provided by logging, such as log levels, handlers, formatters, etc.\n",
    "\n",
    "Verbosity: Print statements are straightforward but can clutter the code and may be challenging to manage in larger applications.\n",
    "\n",
    "Temporary Debugging: Print statements are often used temporarily during development for quick checks or debugging.\n",
    "\n",
    "{When to Use Logging Over Print Statements}---------------------\n",
    "\n",
    "Production Code: Use logging for production code where systematic event tracking, error handling, and log levels are essential.\n",
    "Long-Running Processes: Logging is suitable for applications that run continuously or for an extended period, providing a structured way to capture events.\n",
    "Error Handling: Logging is crucial for capturing and handling errors gracefully, allowing you to diagnose issues efficiently.\n",
    "Configurability: If you need to change the log levels, output destinations, or formatting globally, logging is the more suitable choice.\n",
    "Multiple Modules/Classes: In applications with multiple modules or classes, logging allows you to organize and centralize log messages effectively."
   ]
  },
  {
   "cell_type": "markdown",
   "id": "c5228193",
   "metadata": {},
   "source": [
    "Que 10. Write a Python program that logs a message to a file named \"app.log\" with the\n",
    "following requirements:\n",
    "● The log message should be \"Hello, World!\"\n",
    "● The log level should be set to \"INFO.\"\n",
    "● The log file should append new log entries without overwriting previous ones.\n",
    "\n",
    "Answer = \n",
    "\n",
    "Certainly! Below is a simple Python program that uses the logging module to log an \"INFO\" level message to a file named \"app.log.\" The program appends new log entries to the file without overwriting previous ones."
   ]
  },
  {
   "cell_type": "code",
   "execution_count": 3,
   "id": "4e037458",
   "metadata": {},
   "outputs": [],
   "source": [
    "import logging\n",
    "\n",
    "logging.basicConfig(filename='app.log', level=logging.INFO, format='%(asctime)s - %(levelname)s - %(message)s', filemode='a')\n",
    "\n",
    "logging.info('Hello, World!')\n"
   ]
  },
  {
   "cell_type": "markdown",
   "id": "6bcdc01e",
   "metadata": {},
   "source": [
    "Que. 11. Create a Python program that logs an error message to the console and a file named\n",
    "\"errors.log\" if an exception occurs during the program's execution. The error\n",
    "message should include the exception type and a timestamp.\n",
    "\n",
    "Answer = \n",
    " Python program that logs an error message to both the console and a file named \"errors.log\" if an exception occurs during the program's execution. The error message includes the exception type and a timestamp."
   ]
  },
  {
   "cell_type": "code",
   "execution_count": 4,
   "id": "1c350f99",
   "metadata": {},
   "outputs": [],
   "source": [
    "import logging\n",
    "import datetime\n",
    "\n",
    "# Configure logging to write to the console and a file named \"errors.log\"\n",
    "logging.basicConfig(level=logging.ERROR, format='%(asctime)s - %(levelname)s - %(message)s')\n",
    "file_handler = logging.FileHandler('errors.log')\n",
    "file_handler.setLevel(logging.ERROR)\n",
    "file_handler.setFormatter(logging.Formatter('%(asctime)s - %(levelname)s - %(message)s'))\n",
    "logging.getLogger().addHandler(file_handler)\n",
    "\n",
    "def main():\n",
    "    try:\n",
    "        result = 10 / 0\n",
    "    except Exception as e:\n",
    "        error_message = f'Exception Type: {type(e).__name__}, Timestamp: {datetime.datetime.now()}'\n",
    "        logging.error(error_message, exc_info=True)\n",
    "\n",
    "if __name__ == \"__main__\":\n",
    "    main()\n"
   ]
  },
  {
   "cell_type": "code",
   "execution_count": null,
   "id": "a150bd20",
   "metadata": {},
   "outputs": [],
   "source": []
  }
 ],
 "metadata": {
  "kernelspec": {
   "display_name": "Python 3 (ipykernel)",
   "language": "python",
   "name": "python3"
  },
  "language_info": {
   "codemirror_mode": {
    "name": "ipython",
    "version": 3
   },
   "file_extension": ".py",
   "mimetype": "text/x-python",
   "name": "python",
   "nbconvert_exporter": "python",
   "pygments_lexer": "ipython3",
   "version": "3.11.4"
  }
 },
 "nbformat": 4,
 "nbformat_minor": 5
}
