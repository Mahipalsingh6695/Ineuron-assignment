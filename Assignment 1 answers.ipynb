{
 "cells": [
  {
   "cell_type": "markdown",
   "id": "cd5140d1",
   "metadata": {},
   "source": [
    "QUE 1. In the below elements which of them are values or an expression? eg:- values can be integer or string and expressions will be mathematical operators."
   ]
  },
  {
   "cell_type": "markdown",
   "id": "5a9ba2a1",
   "metadata": {},
   "source": [
    "*,'hello', -87.8,-,/,+,6"
   ]
  },
  {
   "cell_type": "markdown",
   "id": "1bc648b3",
   "metadata": {},
   "source": [
    "Ans: There are a total of 4 Operators and 3 Expressions, They are:\n",
    "Operators: *,-,/,+\n",
    "Expressions: 'hello', 87.8, 6"
   ]
  },
  {
   "cell_type": "markdown",
   "id": "8b6a69c5",
   "metadata": {},
   "source": [
    "QUE 2. What is the difference between string and variable?\n",
    "\n",
    "Answer=A Variable is used to store of information, and a String is a type of information you would store in a Variable. A String is a group of characters or a single character usually enclosed in Double quotes \" \" or single quotes ' '\n",
    "string many time used word format like name,no,and sign \"mahipal\",\"9\",\"+\""
   ]
  },
  {
   "cell_type": "markdown",
   "id": "9287ab38",
   "metadata": {},
   "source": [
    "QUE 3. Describe three different data types.\n",
    "\n",
    "Answer=numeric data type= int.float,complex\n",
    "boolen data type= TRUE or false \n",
    "string data type= for word in \" \" and ''\n",
    "other are list,tuple,range"
   ]
  },
  {
   "cell_type": "markdown",
   "id": "8451e7a5",
   "metadata": {},
   "source": [
    "QUE 4. What is an expression made up of? What do all expressions do?\n",
    "\n",
    "Answer=In Python, expressions are code constructs that evaluate to a value. Expressions can contain variables, operators, and function calls, and can be used in a variety of contexts, such as assignments, print statements, and return statements. An expression always evaluates to a single value, which can be of any data type (such as integer, float, string, etc.)"
   ]
  },
  {
   "cell_type": "markdown",
   "id": "edd8582f",
   "metadata": {},
   "source": [
    "QUE 5. This assignment statements, like spam = 10. What is the difference between an\n",
    "expression and a statement?\n",
    "\n",
    "Answer=statement does not produce any value statement tatements are used to control the flow of the program and carry out various tasks, such as defining variables, making decisions, and looping through data\n",
    "example=\"mahipal singh ineuron\" it is a statement\n",
    "\n",
    "The key difference between expressions and statements is that expressions produce a value, while statements do not. Expressions are a fundamental part of Python programming and are used to perform calculations, make decisions, and produce output.\n",
    "\n",
    "*print(\"mahipal singh\") is a statement.\n",
    "\n",
    "\n",
    "% (5 * 6 * 10-50=250)\n",
    "\n"
   ]
  },
  {
   "cell_type": "markdown",
   "id": "6bc9b586",
   "metadata": {},
   "source": [
    "QUE 6. After running the following code, what does the variable bacon contain?\n",
    "bacon = 22\n",
    "bacon + 1\n",
    "\n",
    "Answer= bacon is a variable of 22 when run it  and it will run +1 in next statement if type bacon +1 but we to type \n",
    "bacon = bacon +1\n",
    "\n"
   ]
  },
  {
   "cell_type": "code",
   "execution_count": 4,
   "id": "44ff82a4",
   "metadata": {},
   "outputs": [
    {
     "name": "stdout",
     "output_type": "stream",
     "text": [
      "22\n"
     ]
    }
   ],
   "source": [
    "# Example Case#1\n",
    "bacon=22\n",
    "bacon+1\n",
    "print(bacon)"
   ]
  },
  {
   "cell_type": "code",
   "execution_count": 5,
   "id": "22a8f940",
   "metadata": {},
   "outputs": [
    {
     "name": "stdout",
     "output_type": "stream",
     "text": [
      "23\n"
     ]
    }
   ],
   "source": [
    "#Example Case#2\n",
    "bacon=22\n",
    "bacon=bacon+1 \n",
    "print(bacon)"
   ]
  },
  {
   "cell_type": "markdown",
   "id": "9361ae95",
   "metadata": {},
   "source": [
    "QUE 7. What should the values of the following two terms be?\n",
    " 'spam' + 'spamspam'\n",
    " 'spam'*3\n",
    " \n",
    " Answer= first statement work like a addition of things String Concatentation \"spamspamspam\" but 2nd statement is multiplication thin in this String Multiplication \"spam\" multiply 3 times and also give same result \"spamspamspam\""
   ]
  },
  {
   "cell_type": "code",
   "execution_count": 6,
   "id": "ec609862",
   "metadata": {},
   "outputs": [
    {
     "name": "stdout",
     "output_type": "stream",
     "text": [
      "spamspamspam\n",
      "spamspamspam\n"
     ]
    }
   ],
   "source": [
    "print('spam'+'spamspam') # string concatenation\n",
    "print('spam'*3) # string multiplication"
   ]
  },
  {
   "cell_type": "markdown",
   "id": "b2b92977",
   "metadata": {},
   "source": [
    "QUE 8. Why is eggs a valid variable name while 100 is invalid?\n",
    "\n",
    "Answer= As per python,Variable names cannot begin with a number. The python rules for naming a variable are :-\n",
    "\n",
    "1.Variable name must start with a letter or the underscore character.\n",
    "2.Variable name cannot start with a number.\n",
    "3.Variable name can only contain alpha-numeric characters and underscores (A-z, 0-9, & _ ).\n",
    "4.Variable names are case-sensitive (name, MAHIPAL and mahipal are three different variables).\n",
    "5.The reserved words(keywords) cannot be used naming the variable.\n"
   ]
  },
  {
   "cell_type": "code",
   "execution_count": 8,
   "id": "e35a7baf",
   "metadata": {},
   "outputs": [
    {
     "ename": "SyntaxError",
     "evalue": "cannot assign to literal here. Maybe you meant '==' instead of '='? (4123231585.py, line 2)",
     "output_type": "error",
     "traceback": [
      "\u001b[1;36m  Cell \u001b[1;32mIn[8], line 2\u001b[1;36m\u001b[0m\n\u001b[1;33m    100='singh' # Invalid Variable Initilization\u001b[0m\n\u001b[1;37m    ^\u001b[0m\n\u001b[1;31mSyntaxError\u001b[0m\u001b[1;31m:\u001b[0m cannot assign to literal here. Maybe you meant '==' instead of '='?\n"
     ]
    }
   ],
   "source": [
    "egg='Mahipal' # Valid variable Initilization\n",
    "100='singh' # Invalid Variable Initilization\n",
    "print(egg) #prints the value of egg ie Mahipal\n",
    "print(100) # Raises a Syntax Error as 100 is not a valid variable name"
   ]
  },
  {
   "cell_type": "markdown",
   "id": "7aa99fb8",
   "metadata": {},
   "source": [
    "QUE.9. What three functions can be used to get the integer, floating-point number, or string\n",
    "version of a value?\n",
    "\n",
    "Answer= int. is numeric value that can be no.\n",
    "float is numeric value with decimal points \n",
    "string is name, digit in comma as per format \"\".\n"
   ]
  },
  {
   "cell_type": "code",
   "execution_count": 9,
   "id": "f46e9c93",
   "metadata": {},
   "outputs": [
    {
     "name": "stdout",
     "output_type": "stream",
     "text": [
      "int(10.0) ->  10\n",
      "float(10) ->  10.0\n",
      "str(10) ->  10\n"
     ]
    }
   ],
   "source": [
    "# Examples:\n",
    "print('int(10.0) -> ',int(10.0)) # int() function converts given input to int\n",
    "print('float(10) -> ',float(10)) # float() function converts given input to float\n",
    "print('str(10) -> ',str(10)) # str() function converts given input to string"
   ]
  },
  {
   "cell_type": "markdown",
   "id": "befe6860",
   "metadata": {},
   "source": [
    "QUE 10.Why does this expression cause an error? how can you fix it?\n",
    "       'I have eaten ' + 99 + 'burritos.'\n",
    "       \n",
    " Answer =  there is a error because of 99 string and numeric data\n",
    "  99 should be a string thing  99 must be typecasted to a string to fix this error\n",
    " "
   ]
  },
  {
   "cell_type": "code",
   "execution_count": 10,
   "id": "fc6c12a0",
   "metadata": {},
   "outputs": [
    {
     "name": "stdout",
     "output_type": "stream",
     "text": [
      "I have eaten 99 burritos\n"
     ]
    }
   ],
   "source": [
    "print('I have eaten '+str(99)+' burritos')"
   ]
  },
  {
   "cell_type": "code",
   "execution_count": null,
   "id": "5c61aa42",
   "metadata": {},
   "outputs": [],
   "source": []
  }
 ],
 "metadata": {
  "kernelspec": {
   "display_name": "Python 3 (ipykernel)",
   "language": "python",
   "name": "python3"
  },
  "language_info": {
   "codemirror_mode": {
    "name": "ipython",
    "version": 3
   },
   "file_extension": ".py",
   "mimetype": "text/x-python",
   "name": "python",
   "nbconvert_exporter": "python",
   "pygments_lexer": "ipython3",
   "version": "3.11.4"
  }
 },
 "nbformat": 4,
 "nbformat_minor": 5
}
