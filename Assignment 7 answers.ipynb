{
 "cells": [
  {
   "cell_type": "markdown",
   "id": "28b4cd96",
   "metadata": {},
   "source": [
    "Q.1. Create two int type variables, apply addition, subtraction, division and multiplications\n",
    "and store the results in variables. Then print the data in the following format by calling the\n",
    "variables:\n",
    "\n",
    "First variable is __ & second variable is __.\n",
    "Addition: __ + __ = __\n",
    "Subtraction: __ - __ = __\n",
    "Multiplication: __ * __ = __\n",
    "Division: __ / __ = __"
   ]
  },
  {
   "cell_type": "code",
   "execution_count": 2,
   "id": "894cebaa",
   "metadata": {},
   "outputs": [
    {
     "name": "stdout",
     "output_type": "stream",
     "text": [
      "Results:\n",
      "Addition: 10 + 5 = 15\n",
      "Subtraction: 10 - 5 = 5\n",
      "Division: 10 / 5 = 2.0\n",
      "Multiplication: 10 * 5 = 50\n"
     ]
    }
   ],
   "source": [
    "num1 = 10\n",
    "num2 = 5\n",
    "addition       = num1 + num2\n",
    "subtraction    = num1 - num2\n",
    "division       = num1 / num2\n",
    "multiplication = num1 * num2\n",
    "print(\"Results:\")\n",
    "print(f\"Addition: {num1} + {num2} = {addition}\")\n",
    "print(f\"Subtraction: {num1} - {num2} = {subtraction}\")\n",
    "print(f\"Division: {num1} / {num2} = {division}\")\n",
    "print(f\"Multiplication: {num1} * {num2} = {multiplication}\")"
   ]
  },
  {
   "cell_type": "markdown",
   "id": "f5cc35b0",
   "metadata": {},
   "source": [
    "Q.2. What is the difference between the following operators:\n",
    "(i) ‘/’ & ‘//’\n",
    "(ii) ‘**’ & ‘^’\n",
    "\n",
    "Answer= '/' (Single Slash)-simply show divied \n",
    "\n",
    "•// (double slash)- performs floor division and returns an integer.\n",
    "\n",
    "• ** show the power sign -** is the exponentiation operator.\n",
    "  2**3=8\n",
    "  \n",
    "• ^ is the bitwise XOR operator.\n",
    "  5^3=6"
   ]
  },
  {
   "cell_type": "markdown",
   "id": "94f9bf0f",
   "metadata": {},
   "source": [
    "Q.3. List the logical operators.\n",
    "\n",
    "Answer= the logical operators are used to perform logical operations on boolean values. \n",
    "\n",
    "AND = True and False = False\n",
    "OR  = True or False  = True\n",
    "NOT = True NOT False = False"
   ]
  },
  {
   "cell_type": "markdown",
   "id": "f381ebae",
   "metadata": {},
   "source": [
    "Q.4. Explain right shift operator and left shift operator with examples.\n",
    "\n",
    "Answer= \n",
    "•Right Shift Operator (>>):The right shift operator shifts the bits of a binary representation to the right by a specified number of positions\n",
    "num = 8 \n",
    "result = num >> 2\n",
    "print(result) \n",
    "result=2\n",
    "• Left Shift Operator (<<):The left shift operator shifts the bits of a binary representation to the left by a specified number of positions.\n",
    "num = 2  \n",
    "result = num << 3\n",
    "print(result)\n",
    "result = 16"
   ]
  },
  {
   "cell_type": "code",
   "execution_count": null,
   "id": "7f6a4848",
   "metadata": {},
   "outputs": [],
   "source": [
    "Q.5. Create a list containing int type data of length 15. Then write a code to check if 10 is\n",
    "present in the list or not.\n",
    "\n",
    "Answer ="
   ]
  },
  {
   "cell_type": "code",
   "execution_count": 11,
   "id": "fa482f3b",
   "metadata": {},
   "outputs": [
    {
     "name": "stdout",
     "output_type": "stream",
     "text": [
      "10 is present in the list.\n"
     ]
    }
   ],
   "source": [
    "own_list = [3, 8, 2, 5, 10, 7, 15, 1, 9, 6, 12, 4, 11, 14, 13]\n",
    "if 10 in own_list:\n",
    "    print(\"10 is present in the list.\")\n",
    "else:\n",
    "    print(\"10 is not present in the list.\")"
   ]
  },
  {
   "cell_type": "code",
   "execution_count": null,
   "id": "407c0204",
   "metadata": {},
   "outputs": [],
   "source": []
  }
 ],
 "metadata": {
  "kernelspec": {
   "display_name": "Python 3 (ipykernel)",
   "language": "python",
   "name": "python3"
  },
  "language_info": {
   "codemirror_mode": {
    "name": "ipython",
    "version": 3
   },
   "file_extension": ".py",
   "mimetype": "text/x-python",
   "name": "python",
   "nbconvert_exporter": "python",
   "pygments_lexer": "ipython3",
   "version": "3.11.4"
  }
 },
 "nbformat": 4,
 "nbformat_minor": 5
}
