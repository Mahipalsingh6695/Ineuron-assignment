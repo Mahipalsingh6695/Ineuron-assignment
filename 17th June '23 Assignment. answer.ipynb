{
 "cells": [
  {
   "cell_type": "code",
   "execution_count": null,
   "id": "7a7d0038",
   "metadata": {},
   "outputs": [],
   "source": [
    "Que 1. What is the role of try and exception block?\n",
    "\n",
    "Answerv= the try and except blocks are used for exception handling\n",
    "try block is to monitor for potential exceptions during the execution of the enclosed code.\n",
    "except block contains the code that should be executed in response to the specific exception that occurred."
   ]
  },
  {
   "cell_type": "code",
   "execution_count": 1,
   "id": "6d9f22b9",
   "metadata": {},
   "outputs": [
    {
     "name": "stdout",
     "output_type": "stream",
     "text": [
      "Error: Division by zero\n"
     ]
    }
   ],
   "source": [
    "try:\n",
    "    result = 10 / 0\n",
    "except ZeroDivisionError:\n",
    "    print(\"Error: Division by zero\")\n",
    "except Exception as e:\n",
    "    print(f\"An unexpected error occurred: {e}\")"
   ]
  },
  {
   "cell_type": "code",
   "execution_count": null,
   "id": "1f93cf46",
   "metadata": {},
   "outputs": [],
   "source": [
    "Que 2. What is the syntax for a basic try-except block?\n",
    "\n",
    "Answer= "
   ]
  },
  {
   "cell_type": "code",
   "execution_count": null,
   "id": "7d590cb5",
   "metadata": {},
   "outputs": [],
   "source": [
    "try:\n",
    "    # Code that might raise an exception\n",
    "except SomeExceptionType:\n",
    "    # Code to handle the specific exception (SomeExceptionType)\n",
    "except AnotherExceptionType as e:\n",
    "    # Code to handle another specific exception (AnotherExceptionType)\n",
    "    # Access the exception object as 'e' if needed\n",
    "except:\n",
    "    # Code to handle any other exception (generic)\n",
    "else:\n",
    "    # Code to be executed if no exception occurs in the try block\n",
    "    # Optional, and can be omitted if not needed\n",
    "finally:\n",
    "    # Code to be executed whether an exception occurs or not\n",
    "    # Optional, and can be omitted if not needed\n"
   ]
  },
  {
   "cell_type": "markdown",
   "id": "06098ddc",
   "metadata": {},
   "source": [
    "Que 3. What happens if an exception occurs inside a try block and there is no matching\n",
    "except block?\n",
    "\n",
    "Answer =  if we make try model and give error but exception model can't find the error exception is not caught by any except block within the current function or any of its callers, the program will terminate, and an error message exception mag. and other thing "
   ]
  },
  {
   "cell_type": "code",
   "execution_count": 3,
   "id": "a148eee1",
   "metadata": {},
   "outputs": [
    {
     "ename": "ZeroDivisionError",
     "evalue": "division by zero",
     "output_type": "error",
     "traceback": [
      "\u001b[1;31m---------------------------------------------------------------------------\u001b[0m",
      "\u001b[1;31mZeroDivisionError\u001b[0m                         Traceback (most recent call last)",
      "Cell \u001b[1;32mIn[3], line 2\u001b[0m\n\u001b[0;32m      1\u001b[0m \u001b[38;5;28;01mtry\u001b[39;00m:\n\u001b[1;32m----> 2\u001b[0m     result \u001b[38;5;241m=\u001b[39m \u001b[38;5;241m10\u001b[39m \u001b[38;5;241m/\u001b[39m \u001b[38;5;241m0\u001b[39m  \n\u001b[0;32m      3\u001b[0m \u001b[38;5;28;01mexcept\u001b[39;00m \u001b[38;5;167;01mValueError\u001b[39;00m:\n\u001b[0;32m      4\u001b[0m     \u001b[38;5;28mprint\u001b[39m(\u001b[38;5;124m\"\u001b[39m\u001b[38;5;124mHandling ValueError\u001b[39m\u001b[38;5;124m\"\u001b[39m)\n",
      "\u001b[1;31mZeroDivisionError\u001b[0m: division by zero"
     ]
    }
   ],
   "source": [
    "try:\n",
    "    result = 10 / 0  \n",
    "except ValueError:\n",
    "    print(\"Handling ValueError\")"
   ]
  },
  {
   "cell_type": "markdown",
   "id": "79b0cdb9",
   "metadata": {},
   "source": [
    "Que 4. What is the difference between using a bare except block and specifying a specific\n",
    "exception type?\n",
    "\n",
    "Answer = \n",
    "Specific Exception Type:\n",
    "\n",
    "When you specify a particular exception type in an except block, that block will only handle exceptions of the specified type or its subclasses. specific exception type is type of exception it genrally used everywhere for specific error or exception\n",
    "\n",
    "Bare except Block:\n",
    "\n",
    "A bare except block (without specifying an exception type) will catch and handle any exception, regardless of its type.\n",
    "it can handle any type of exception but we avoid it it difficult to handle on this can be convenient for catching unexpected errors and preventing program crashes, it should be used with caution."
   ]
  },
  {
   "cell_type": "code",
   "execution_count": null,
   "id": "870e744c",
   "metadata": {},
   "outputs": [],
   "source": [
    "Que 5. Can you have nested try-except blocks in Python? If yes, then give an example.\n",
    "\n",
    "Answer = Yes, we can have nested try-except blocks in Python.it make more granular exception handling"
   ]
  },
  {
   "cell_type": "code",
   "execution_count": 5,
   "id": "32eb2589",
   "metadata": {},
   "outputs": [
    {
     "name": "stdout",
     "output_type": "stream",
     "text": [
      "Enter a numerator: 25\n",
      "Enter a denominator: 5\n",
      "The result of division is: 5.0\n"
     ]
    }
   ],
   "source": [
    "try:\n",
    "    x = int(input(\"Enter a numerator: \"))\n",
    "    y = int(input(\"Enter a denominator: \"))\n",
    "    try:\n",
    "        result = x / y\n",
    "    except ZeroDivisionError:\n",
    "        print(\"Error: Division by zero in the inner try block\")\n",
    "    else:\n",
    "        print(f\"The result of division is: {result}\")\n",
    "\n",
    "except ValueError:\n",
    "    print(\"Error: Please enter valid numeric values for the numerator and denominator\")\n",
    "except Exception as e:\n",
    "    print(f\"An unexpected error occurred: {e}\")"
   ]
  },
  {
   "cell_type": "code",
   "execution_count": null,
   "id": "1c7ed8e1",
   "metadata": {},
   "outputs": [],
   "source": [
    "Que 6. Can we use multiple exception blocks, if yes then give an example.\n",
    "\n",
    "Answer = Yes, you can use multiple except blocks to handle different types of exceptions"
   ]
  },
  {
   "cell_type": "code",
   "execution_count": 6,
   "id": "000804a1",
   "metadata": {},
   "outputs": [
    {
     "name": "stdout",
     "output_type": "stream",
     "text": [
      "Enter the first number: 25\n",
      "Enter the second number: 0\n",
      "Error: Division by zero is not allowed.\n",
      "Finally block: This code will always be executed.\n"
     ]
    }
   ],
   "source": [
    "try:\n",
    "    # Code that might raise exceptions\n",
    "    num1 = int(input(\"Enter the first number: \"))\n",
    "    num2 = int(input(\"Enter the second number: \"))\n",
    "    result = num1 / num2\n",
    "\n",
    "except ValueError:\n",
    "    # Handling a ValueError \n",
    "    print(\"Error: Please enter valid numeric values.\")\n",
    "\n",
    "except ZeroDivisionError:\n",
    "    # Handling a ZeroDivisionError\n",
    "    print(\"Error: Division by zero is not allowed.\")\n",
    "\n",
    "except Exception as e:\n",
    "    # Handling other exceptions\n",
    "    print(f\"An unexpected error occurred: {e}\")\n",
    "\n",
    "else:\n",
    "    # Code to be executed if no exception occurs in the try block\n",
    "    print(f\"The result of division is: {result}\")\n",
    "\n",
    "finally:\n",
    "    # Code to be executed whether an exception occurs or not\n",
    "    print(\"Finally block: This code will always be executed.\")\n"
   ]
  },
  {
   "cell_type": "markdown",
   "id": "3b02b91c",
   "metadata": {},
   "source": [
    "Que 7. Write the reason due to which following errors are raised:\n",
    "a. EOFError\n",
    "b. FloatingPointError\n",
    "c. IndexError\n",
    "d. MemoryError\n",
    "e. OverflowError\n",
    "f. TabError\n",
    "g. ValueError\n",
    "\n",
    "Answer =\n",
    "\n",
    "a. EOFError-\n",
    "\n",
    "Raised when the input() function hits the end-of-file condition without receiving any data.\n",
    "b. FloatingPointError-\n",
    "\n",
    "Raised when a floating-point operation (e.g., division by zero) results in an undefined or infinite value.\n",
    "c. IndexError-\n",
    "\n",
    "Raised when a sequence subscript is out of range, either too high or too low.\n",
    "d. MemoryError-\n",
    "\n",
    "Raised when an operation runs out of memory.\n",
    "e. OverflowError-\n",
    "\n",
    "Raised when an arithmetic operation exceeds the limits of the data type.\n",
    "f. TabError-\n",
    "\n",
    "Raised when indentation contains inconsistent use of tabs and spaces. This often occurs in Python code due to mixing tabs and spaces.\n",
    "g. ValueError:\n",
    "\n",
    "Raised when a built-in operation or function receives an argument of the correct type but an inappropriate value."
   ]
  },
  {
   "cell_type": "code",
   "execution_count": null,
   "id": "b2fed65f",
   "metadata": {},
   "outputs": [],
   "source": [
    "Que 8. Write code for the following given scenario and add try-exception block to it.\n",
    "a. Program to divide two numbers\n",
    "b. Program to convert a string to an integer\n",
    "c. Program to access an element in a list\n",
    "d. Program to handle a specific exception\n",
    "e. Program to handle any exception"
   ]
  },
  {
   "cell_type": "code",
   "execution_count": 7,
   "id": "2730b2bc",
   "metadata": {},
   "outputs": [
    {
     "name": "stdout",
     "output_type": "stream",
     "text": [
      "Enter the numerator: 25\n",
      "Enter the denominator: 5\n",
      "The result of division is: 5.0\n"
     ]
    }
   ],
   "source": [
    "#a. Program to divide two numbers\n",
    "try:\n",
    "    numerator = float(input(\"Enter the numerator: \"))\n",
    "    denominator = float(input(\"Enter the denominator: \"))\n",
    "    result = numerator / denominator\n",
    "    print(f\"The result of division is: {result}\")\n",
    "except ZeroDivisionError:\n",
    "    print(\"Error: Division by zero is not allowed.\")\n",
    "except ValueError:\n",
    "    print(\"Error: Please enter valid numeric values.\")\n",
    "except Exception as e:\n",
    "    print(f\"An unexpected error occurred: {e}\")\n"
   ]
  },
  {
   "cell_type": "code",
   "execution_count": null,
   "id": "13c4d341",
   "metadata": {},
   "outputs": [],
   "source": [
    "#b. Program to convert a string to an integer\n",
    "try:\n",
    "    input_string = input(\"Enter an integer: \")\n",
    "    integer_value = int(input_string)\n",
    "    print(f\"The converted integer is: {integer_value}\")\n",
    "except ValueError:\n",
    "    print(\"Error: Invalid input. Please enter a valid integer.\")\n",
    "except Exception as e:\n",
    "    print(f\"An unexpected error occurred: {e}\")\n"
   ]
  },
  {
   "cell_type": "code",
   "execution_count": null,
   "id": "defa0d76",
   "metadata": {},
   "outputs": [],
   "source": [
    "#c. Program to access an element in a list\n",
    "try:\n",
    "    my_list = [1, 2, 3, 4, 5]\n",
    "    index = int(input(\"Enter an index to access in the list: \"))\n",
    "    value = my_list[index]\n",
    "    print(f\"The value at index {index} is: {value}\")\n",
    "except IndexError:\n",
    "    print(\"Error: Index out of range. Please enter a valid index.\")\n",
    "except ValueError:\n",
    "    print(\"Error: Please enter a valid integer for the index.\")\n",
    "except Exception as e:\n",
    "    print(f\"An unexpected error occurred: {e}\")\n"
   ]
  },
  {
   "cell_type": "code",
   "execution_count": null,
   "id": "a0e18e08",
   "metadata": {},
   "outputs": [],
   "source": [
    "#d. Program to handle a specific exception\n",
    "try:\n",
    "    result = 10 / 0  \n",
    "except ZeroDivisionError:\n",
    "    print(\"Handling ZeroDivisionError: Division by zero is not allowed.\")\n",
    "except Exception as e:\n",
    "    print(f\"An unexpected error occurred: {e}\")\n"
   ]
  },
  {
   "cell_type": "code",
   "execution_count": null,
   "id": "b1be50e5",
   "metadata": {},
   "outputs": [],
   "source": [
    "#e. Program to handle any exception\n",
    "try:\n",
    "    # Code that might raise any exception\n",
    "    num1 = int(input(\"Enter the first number: \"))\n",
    "    num2 = int(input(\"Enter the second number: \"))\n",
    "    result = num1 / num2\n",
    "    print(f\"The result of division is: {result}\")\n",
    "except Exception as e:\n",
    "    print(f\"An error occurred: {e}\")\n"
   ]
  }
 ],
 "metadata": {
  "kernelspec": {
   "display_name": "Python 3 (ipykernel)",
   "language": "python",
   "name": "python3"
  },
  "language_info": {
   "codemirror_mode": {
    "name": "ipython",
    "version": 3
   },
   "file_extension": ".py",
   "mimetype": "text/x-python",
   "name": "python",
   "nbconvert_exporter": "python",
   "pygments_lexer": "ipython3",
   "version": "3.11.4"
  }
 },
 "nbformat": 4,
 "nbformat_minor": 5
}
