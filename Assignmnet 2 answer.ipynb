{
 "cells": [
  {
   "cell_type": "markdown",
   "id": "682dfd2d",
   "metadata": {},
   "source": [
    "Que 1.What are the two values of the Boolean data type? How do you write them?\n",
    "\n",
    "Answer= boolen data type are like statement data type there is a two True and False thing \n"
   ]
  },
  {
   "cell_type": "code",
   "execution_count": 2,
   "id": "5d5e4460",
   "metadata": {},
   "outputs": [
    {
     "name": "stdout",
     "output_type": "stream",
     "text": [
      "True <class 'bool'>\n",
      "False <class 'bool'>\n"
     ]
    }
   ],
   "source": [
    "x=True\n",
    "y=False\n",
    "print(x,type(x))\n",
    "print(y,type(y))"
   ]
  },
  {
   "cell_type": "markdown",
   "id": "a2d2f046",
   "metadata": {},
   "source": [
    "Que 2. What are the three different types of Boolean operators?\n",
    "\n",
    "Answer=The three differnt types of Boolean operators in python are: or and not"
   ]
  },
  {
   "cell_type": "code",
   "execution_count": 4,
   "id": "142d1218",
   "metadata": {},
   "outputs": [
    {
     "name": "stdout",
     "output_type": "stream",
     "text": [
      "True\n",
      "True\n",
      "False\n"
     ]
    }
   ],
   "source": [
    "x=100\n",
    "y=200\n",
    "print(x>50 and y>100) # Example of boolean and\n",
    "print(x>200 or y>100) # Example of boolean or\n",
    "print(not(x>10)) # Example of boolean not"
   ]
  },
  {
   "cell_type": "markdown",
   "id": "0f091032",
   "metadata": {},
   "source": [
    "Que 3. Make a list of each Boolean operator's truth tables (i.e. every possible combination of Boolean values for the operator and what it evaluate) \n",
    "\n",
    "Answer= boolen tables\n",
    "\n",
    ">. Truth Table for and operator.\n",
    "\n",
    "•True and True is True.\n",
    "\n",
    "•True and False is False.\n",
    "\n",
    "•False and True is False.\n",
    "\n",
    "•False and False is False.\n",
    "\n",
    ">Truth Table for or operator.\n",
    "\n",
    "•True and True is True.\n",
    "\n",
    "•True and False is True.\n",
    "\n",
    "•False and True is True.\n",
    "\n",
    "•False and False is False.\n",
    "\n",
    ">Truth Table for not operator.\n",
    "\n",
    "•True not is False False not is True"
   ]
  },
  {
   "cell_type": "markdown",
   "id": "c817d43b",
   "metadata": {},
   "source": [
    "Que 4. What are the values of the following expressions ?\n",
    "\n",
    "•5 > 4) and (3 == 5)\n",
    "\n",
    "•not (5 > 4)\n",
    "\n",
    "•(5 > 4) or (3 == 5)\n",
    "\n",
    "•not ((5 > 4) or (3 == 5))\n",
    "\n",
    "•(True and True) and (True == False)\n",
    "\n",
    "•(not False) or (not True)\n"
   ]
  },
  {
   "cell_type": "code",
   "execution_count": 9,
   "id": "43197f68",
   "metadata": {},
   "outputs": [
    {
     "name": "stdout",
     "output_type": "stream",
     "text": [
      "False\n",
      "False\n",
      "True\n",
      "False\n",
      "False\n",
      "True\n"
     ]
    }
   ],
   "source": [
    "print((7>4)and(4==5)) # False\n",
    "print(not(6>4)) # False\n",
    "print((8>4)or(4==5)) # True\n",
    "print(not((8>4)or(3==5))) # False\n",
    "print((True and True)and(True==False)) # False\n",
    "print((not False)or(not True)) # True"
   ]
  },
  {
   "cell_type": "markdown",
   "id": "6ed1567b",
   "metadata": {},
   "source": [
    "Que 5. What are the six comparison operators?\n",
    "\n",
    "Answer=\n",
    "• == equal to\n",
    "\n",
    "• != not equal to\n",
    "\n",
    "• < less then\n",
    "\n",
    "• > gretar then\n",
    "\n",
    "• <= less then equal to\n",
    "\n",
    "• >= gretar then equal to"
   ]
  },
  {
   "cell_type": "markdown",
   "id": "d078efc4",
   "metadata": {},
   "source": [
    "Que 6. How do you tell the difference between the equal to and assignment operators?Describe a condition and when you would use one ?\n",
    "\n",
    "Answer=== is the equal to operator that compares two values and evaluates to a Boolean, while = is that assignment operator that stores a value in a variable."
   ]
  },
  {
   "cell_type": "code",
   "execution_count": 10,
   "id": "bae16df8",
   "metadata": {},
   "outputs": [
    {
     "name": "stdout",
     "output_type": "stream",
     "text": [
      "True\n"
     ]
    }
   ],
   "source": [
    "x=3 # Assigning operator that stores 3 value in a variable a\n",
    "if x==3:#comparing values of a varible value and 3\n",
    "    print(x==3)  "
   ]
  },
  {
   "cell_type": "markdown",
   "id": "37150db9",
   "metadata": {},
   "source": [
    "7. Identify the three blocks in this code:\n",
    "spam = 0\n",
    "\n",
    "if spam == 10:\n",
    "\n",
    "print('eggs')\n",
    "\n",
    "if spam > 5:\n",
    "\n",
    "print('bacon')\n",
    "\n",
    "else:\n",
    "\n",
    "print('ham')\n",
    "\n",
    "print('spam')\n",
    "\n",
    "print('spam')\n",
    "\n",
    "Answer=In Python, code block refers to a collection of code that is in the same block or indent. This is most commonly found in classes, functions, and loops."
   ]
  },
  {
   "cell_type": "code",
   "execution_count": 11,
   "id": "2295aecd",
   "metadata": {},
   "outputs": [
    {
     "name": "stdout",
     "output_type": "stream",
     "text": [
      "ham\n",
      "spam\n",
      "spam\n"
     ]
    }
   ],
   "source": [
    "spam = 0  \n",
    "if spam == 10:  \n",
    "    print('eggs')  # block #1\n",
    "if spam > 5:  \n",
    "    print('bacon')  # block #2\n",
    "else:  \n",
    "    print('ham')  # block #3\n",
    "print('spam')  \n",
    "print('spam')"
   ]
  },
  {
   "cell_type": "markdown",
   "id": "1d0b8e6d",
   "metadata": {},
   "source": [
    "QUE 8. Write code that prints Hello if 1 is stored in spam, prints Howdy if 2 is stored in spam, and prints Greetings! if anything else is stored in spam.\n"
   ]
  },
  {
   "cell_type": "code",
   "execution_count": 13,
   "id": "daf5af03",
   "metadata": {},
   "outputs": [
    {
     "name": "stdout",
     "output_type": "stream",
     "text": [
      "Hello\n",
      "Mahipal\n",
      "Singh\n"
     ]
    }
   ],
   "source": [
    "def spamCode(spam):\n",
    "    if spam==1:\n",
    "        print('Hello')\n",
    "    elif spam==2:\n",
    "        print('Mahipal')\n",
    "    else:\n",
    "        print('Singh')\n",
    "        \n",
    "spamCode(1) \n",
    "spamCode(2)\n",
    "spamCode(3)"
   ]
  },
  {
   "cell_type": "markdown",
   "id": "9af447b0",
   "metadata": {},
   "source": [
    "Que 9.If your programme is stuck in an endless loop, what keys you’ll press?\n",
    "\n",
    "Answer= ctrl-c"
   ]
  },
  {
   "cell_type": "markdown",
   "id": "908822a0",
   "metadata": {},
   "source": [
    "Que 10. How can you tell the difference between break and continue?\n",
    "\n",
    "Answer= The break statement will move the execution outside the loop if break condtion is satisfied. Whereas the continue statement will move the execution to the start of the loop\n"
   ]
  },
  {
   "cell_type": "markdown",
   "id": "4c329a73",
   "metadata": {},
   "source": [
    "Que 11. In a for loop, what is the difference between range(10), range(0, 10), and range(0, 10, 1)?\n",
    "\n",
    "Answer=  The Differences are as follows:\n",
    "\n",
    "The range(10) call range from 0 to 9 (but not include 10)\n",
    "\n",
    "The range (0,10) explicitly tells the loop to start at 0\n",
    "\n",
    "The range(0,10,1) explicitly tells the loop to increase the variable by 1 on each iteration"
   ]
  },
  {
   "cell_type": "markdown",
   "id": "697a232c",
   "metadata": {},
   "source": [
    "Que 12. Write a short program that prints the numbers 1 to 10 using a for loop. Then write an equivalent program that prints the numbers 1 to 10 using a while loop ?\n",
    "\n",
    "Answer="
   ]
  },
  {
   "cell_type": "code",
   "execution_count": 16,
   "id": "53dba49c",
   "metadata": {},
   "outputs": [
    {
     "name": "stdout",
     "output_type": "stream",
     "text": [
      "---------- Using For Loop ----------\n",
      "1 2 3 4 5 6 7 8 9 10 \n",
      "\n",
      "---------- Using While Loop ----------\n",
      "1 2 3 4 5 6 7 8 9 10 "
     ]
    }
   ],
   "source": [
    "print('-'*10,'Using For Loop','-'*10)\n",
    "for i in range(1,11):\n",
    "    print(i, end=\" \")\n",
    "print('\\n')\n",
    "print('-'*10,'Using While Loop','-'*10) \n",
    "i=1\n",
    "while i<=10:\n",
    "    print(i, end=\" \")\n",
    "    i+=1"
   ]
  },
  {
   "cell_type": "markdown",
   "id": "dd6e7d5a",
   "metadata": {},
   "source": [
    "Que 13. If you had a function named bacon() inside a module named spam, how would you call it after importing spam ?\n",
    "\n",
    "Answer=This function can be called with spam.bacon()"
   ]
  },
  {
   "cell_type": "code",
   "execution_count": null,
   "id": "984c43d1",
   "metadata": {},
   "outputs": [],
   "source": []
  }
 ],
 "metadata": {
  "kernelspec": {
   "display_name": "Python 3 (ipykernel)",
   "language": "python",
   "name": "python3"
  },
  "language_info": {
   "codemirror_mode": {
    "name": "ipython",
    "version": 3
   },
   "file_extension": ".py",
   "mimetype": "text/x-python",
   "name": "python",
   "nbconvert_exporter": "python",
   "pygments_lexer": "ipython3",
   "version": "3.11.4"
  }
 },
 "nbformat": 4,
 "nbformat_minor": 5
}
