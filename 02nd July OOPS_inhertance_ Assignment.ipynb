{
 "cells": [
  {
   "cell_type": "markdown",
   "id": "c6c6e061",
   "metadata": {},
   "source": [
    "Que 1. Explain what inheritance is in object-oriented programming and why it is used.\n",
    "\n",
    "Answer = inheritance is property of a class where we inherit class with subclass or derived class here we can show more class like branch and its a diffrent from superclass or base class\n",
    " example\n",
    " \n",
    " class mobile:\n",
    "     def__init__(self,model)\n",
    "     self.model = model #this is class\n",
    "     \n",
    "     def feature(self)\n",
    "     pass\n",
    "     \n",
    " class brand(mobile):\n",
    "     def feature(self) # this is inheritance where this class in mobile class\n",
    "     \n",
    "     "
   ]
  },
  {
   "cell_type": "markdown",
   "id": "d562ce3a",
   "metadata": {},
   "source": [
    "Que 2. Discuss the concept of single inheritance and multiple inheritance, highlighting their\n",
    "differences and advantages.\n",
    "\n",
    "Answer =\n",
    "•A derived class can have only one parent class is single inheritance.\n",
    "•A derived class have multiple parent class in multiple inheritance."
   ]
  },
  {
   "cell_type": "code",
   "execution_count": 15,
   "id": "f8bb8532",
   "metadata": {},
   "outputs": [
    {
     "name": "stdout",
     "output_type": "stream",
     "text": [
      "apple iphone 15 !\n"
     ]
    }
   ],
   "source": [
    "class mobile:\n",
    "    def __init__(self,model):\n",
    "        \n",
    "        self.model = model       #this is  single class\n",
    "     \n",
    "    def feature(self):\n",
    "        pass\n",
    "     \n",
    "class brand(mobile):\n",
    "    \n",
    "    def feature(self):\n",
    "        return f\"{self.model} iphone 15 !\"\n",
    "    \n",
    "mobile_instance =brand(\"apple\")\n",
    "\n",
    "print(mobile_instance.feature())"
   ]
  },
  {
   "cell_type": "code",
   "execution_count": null,
   "id": "afd5be73",
   "metadata": {},
   "outputs": [],
   "source": [
    "class A:\n",
    "    def method(self):                   #multiple inheritance\n",
    "        print(\"Class A\")\n",
    "\n",
    "class B(A):\n",
    "    def method(self):\n",
    "        print(\"Class B\")\n",
    "\n",
    "class C(A):\n",
    "    def method(self):\n",
    "        print(\"Class C\")\n",
    "\n",
    "class D(B, C):\n",
    "    pass\n"
   ]
  },
  {
   "cell_type": "markdown",
   "id": "0412ce2a",
   "metadata": {},
   "source": [
    "Que 3. Explain the terms \"base class\" and \"derived class\" in the context of inheritance.\n",
    "\n",
    "Answer = \n",
    "Base Class (Superclass):\n",
    "\n",
    "The base class is the class whose properties and behaviors are inherited by another class.\n",
    "It serves as a foundation or blueprint from which other classes can be derived.\n",
    "The base class defines common attributes and methods that can be shared by multiple derived classes.\n",
    "It is also referred to as the superclass or parent class.\n",
    "\n",
    "\n",
    "Derived Class (Subclass):\n",
    "\n",
    "The derived class is the class that inherits properties and behaviors from another class (the base class).\n",
    "It extends or specializes the functionality of the base class by adding new attributes or methods or by overriding existing ones.\n",
    "The derived class is also known as the subclass or child class.\n",
    "It can have its own unique features in addition to those inherited from the base class."
   ]
  },
  {
   "cell_type": "markdown",
   "id": "948c992d",
   "metadata": {},
   "source": [
    "Que 4 What is the significance of the \"protected\" access modifier in inheritance? How does\n",
    "it differ from \"private\" and \"public\" modifiers?\n",
    "\n",
    "Answer= Protected members are accessible within the class and its subclasses (derived classes). They are meant for use within the class hierarchy.\n",
    "\n",
    "syntax= start with \"_\"\n",
    "\n",
    "Private vs. Protected:\n",
    "\n",
    "Private members are not accessible in subclasses, while protected members are accessible in subclasses.\n",
    "Private members use a double underscore (__) prefix, and protected members use a single underscore (_) prefix.\n",
    "\n",
    "Protected vs. Public:\n",
    "\n",
    "Protected members are similar to public members in that both are accessible within the class and its subclasses.\n",
    "However, protected members use a single underscore (_) prefix to indicate that they are intended for use within the class hierarchy."
   ]
  },
  {
   "cell_type": "markdown",
   "id": "0e65f1b3",
   "metadata": {},
   "source": [
    "Que 5 What is the purpose of the \"super\" keyword in inheritance? Provide an example.\n",
    "\n",
    "The super keyword in Python is used in the context of inheritance to refer to the parent class, specifically to call methods or access attributes from the superclass. It is often used within the methods of a derived class to invoke the corresponding methods in the base class.\n",
    "\n"
   ]
  },
  {
   "cell_type": "code",
   "execution_count": 27,
   "id": "6b9331ee",
   "metadata": {},
   "outputs": [
    {
     "name": "stdout",
     "output_type": "stream",
     "text": [
      "iphone apple \n",
      "iphone nice design\n"
     ]
    }
   ],
   "source": [
    "class mobile:\n",
    "    def __init__(self,model):\n",
    "        self.model = model       \n",
    "     \n",
    "    def feature(self):\n",
    "        print(f\"{self.model} apple \")\n",
    "    \n",
    "class brand(mobile):\n",
    "    def __init__(self, model , version):\n",
    "        super().__init__(model)\n",
    "        self.version = version\n",
    "      \n",
    "    \n",
    "    def feature(self):\n",
    "        super().feature()\n",
    "        print(f\"{self.model} nice design\")\n",
    "        \n",
    "mobile_instance =brand(model=\"iphone\", version=\"15 pro max\")\n",
    "\n",
    "mobile_instance.feature()"
   ]
  },
  {
   "cell_type": "code",
   "execution_count": null,
   "id": "33ebdf21",
   "metadata": {},
   "outputs": [],
   "source": [
    "Que 6.  \n",
    "Create a base class called \"Vehicle\" with attributes like \"make\", \"model\", and \"year\".\n",
    "Then, create a derived class called \"Car\" that inherits from \"Vehicle\" and adds an\n",
    "attribute called \"fuel_type\". Implement appropriate methods in both classes."
   ]
  },
  {
   "cell_type": "code",
   "execution_count": 28,
   "id": "a267eb03",
   "metadata": {},
   "outputs": [
    {
     "name": "stdout",
     "output_type": "stream",
     "text": [
      "Vehicle Information: 2020 Tata harrier\n",
      "Vehicle Information: 2022 mahindra scorpio n\n",
      "Fuel Type: diesal\n"
     ]
    }
   ],
   "source": [
    "class Vehicle:\n",
    "    def __init__(self, make, model, year):\n",
    "        self.make = make\n",
    "        self.model = model\n",
    "        self.year = year\n",
    "\n",
    "    def display_info(self):\n",
    "        print(f\"Vehicle Information: {self.year} {self.make} {self.model}\")\n",
    "\n",
    "class Car(Vehicle):\n",
    "    def __init__(self, make, model, year, fuel_type):\n",
    "        super().__init__(make, model, year)\n",
    "        self.fuel_type = fuel_type\n",
    "\n",
    "    def display_info(self):\n",
    "        super().display_info()\n",
    "        print(f\"Fuel Type: {self.fuel_type}\")\n",
    "\n",
    "\n",
    "vehicle_instance = Vehicle(make=\"Tata\", model=\"harrier\", year=2020)\n",
    "vehicle_instance.display_info()\n",
    "\n",
    "car_instance = Car(make=\"mahindra\", model=\"scorpio n\", year=2022, fuel_type=\"diesal\")\n",
    "car_instance.display_info()\n"
   ]
  },
  {
   "cell_type": "code",
   "execution_count": null,
   "id": "707ac34b",
   "metadata": {},
   "outputs": [],
   "source": [
    "Que. 7\n",
    "Create a base class called \"Employee\" with attributes like \"name\" and \"salary.\"\n",
    "Derive two classes, \"Manager\" and \"Developer,\" from \"Employee.\" Add an additional\n",
    "attribute called \"department\" for the \"Manager\" class and \"programming_language\"\n",
    "for the \"Developer\" class."
   ]
  },
  {
   "cell_type": "code",
   "execution_count": 30,
   "id": "38000425",
   "metadata": {},
   "outputs": [
    {
     "name": "stdout",
     "output_type": "stream",
     "text": [
      "Employee Information: Mahipal, Salary: 10000\n",
      "----------------------\n",
      "Employee Information: Ravindra, Salary: 100000\n",
      "Department: Engineering\n",
      "----------------------\n",
      "Employee Information: sunil, Salary: 120000\n",
      "Programming Language: Python\n"
     ]
    }
   ],
   "source": [
    "class Employee:\n",
    "    def __init__(self, name, salary):\n",
    "        self.name = name\n",
    "        self.salary = salary\n",
    "\n",
    "    def display_info(self):\n",
    "        print(f\"Employee Information: {self.name}, Salary: {self.salary}\")\n",
    "\n",
    "class Manager(Employee):\n",
    "    def __init__(self, name, salary, department):\n",
    "        super().__init__(name, salary)\n",
    "        self.department = department\n",
    "\n",
    "    def display_info(self):\n",
    "        super().display_info()\n",
    "        print(f\"Department: {self.department}\")\n",
    "\n",
    "class Developer(Employee):\n",
    "    def __init__(self, name, salary, programming_language):\n",
    "        super().__init__(name, salary)\n",
    "        self.programming_language = programming_language\n",
    "\n",
    "    def display_info(self):\n",
    "        super().display_info()\n",
    "        print(f\"Programming Language: {self.programming_language}\")\n",
    "\n",
    "employee_instance = Employee(name=\"Mahipal\", salary=10000)\n",
    "employee_instance.display_info()\n",
    "\n",
    "print(\"----------------------\")\n",
    "\n",
    "manager_instance = Manager(name=\"Ravindra\", salary=100000, department=\"Engineering\")\n",
    "manager_instance.display_info()\n",
    "\n",
    "print(\"----------------------\")\n",
    "developer_instance = Developer(name=\"sunil\", salary=120000, programming_language=\"Python\")\n",
    "developer_instance.display_info()\n"
   ]
  },
  {
   "cell_type": "code",
   "execution_count": null,
   "id": "309066e5",
   "metadata": {},
   "outputs": [],
   "source": [
    "Que 8. Design a base class called \"Shape\" with attributes like \"colour\" and \"border_width.\"\n",
    "Create derived classes, \"Rectangle\" and \"Circle,\" that inherit from \"Shape\" and add\n",
    "specific attributes like \"length\" and \"width\" for the \"Rectangle\" class and \"radius\" for\n",
    "the \"Circle\" class."
   ]
  },
  {
   "cell_type": "code",
   "execution_count": 32,
   "id": "846733c6",
   "metadata": {},
   "outputs": [
    {
     "name": "stdout",
     "output_type": "stream",
     "text": [
      "Colour: Blue, Border Width: 2\n",
      "Rectangle - Length: 10, Width: 5\n",
      "\n",
      "Colour: Red, Border Width: 1\n",
      "Circle - Radius: 7\n"
     ]
    }
   ],
   "source": [
    "class Shape:\n",
    "    def __init__(self, colour, border_width):\n",
    "        self.colour = colour\n",
    "        self.border_width = border_width\n",
    "\n",
    "    def display_info(self):\n",
    "        print(f\"Colour: {self.colour}, Border Width: {self.border_width}\")\n",
    "\n",
    "class Rectangle(Shape):\n",
    "    def __init__(self, colour, border_width, length, width):\n",
    "        super().__init__(colour, border_width)\n",
    "        self.length = length\n",
    "        self.width = width\n",
    "\n",
    "    def display_info(self):\n",
    "        super().display_info()\n",
    "        print(f\"Rectangle - Length: {self.length}, Width: {self.width}\")\n",
    "\n",
    "class Circle(Shape):\n",
    "    def __init__(self, colour, border_width, radius):\n",
    "        super().__init__(colour, border_width)\n",
    "        self.radius = radius\n",
    "\n",
    "    def display_info(self):\n",
    "        super().display_info()\n",
    "        print(f\"Circle - Radius: {self.radius}\")\n",
    "\n",
    "\n",
    "rectangle = Rectangle(\"Blue\", 2, 10, 5)\n",
    "circle = Circle(\"Red\", 1, 7)\n",
    "\n",
    "rectangle.display_info()\n",
    "print()\n",
    "circle.display_info()\n"
   ]
  },
  {
   "cell_type": "code",
   "execution_count": null,
   "id": "f9624136",
   "metadata": {},
   "outputs": [],
   "source": [
    "Que 9. Create a base class called \"Device\" with attributes like \"brand\" and \"model.\" Derive\n",
    "two classes, \"Phone\" and \"Tablet,\" from \"Device.\" Add specific attributes like\n",
    "\"screen_size\" for the \"Phone\" class and \"battery_capacity\" for the \"Tablet\" class."
   ]
  },
  {
   "cell_type": "code",
   "execution_count": 33,
   "id": "0186d5e0",
   "metadata": {},
   "outputs": [
    {
     "name": "stdout",
     "output_type": "stream",
     "text": [
      "Brand: Samsung, Model: Galaxy S21\n",
      "Phone - Screen Size: 6.2 inches\n",
      "\n",
      "Brand: Apple, Model: iPad Air\n",
      "Tablet - Battery Capacity: 8000 mAh\n"
     ]
    }
   ],
   "source": [
    "class Device:\n",
    "    def __init__(self, brand, model):\n",
    "        self.brand = brand\n",
    "        self.model = model\n",
    "\n",
    "    def display_info(self):\n",
    "        print(f\"Brand: {self.brand}, Model: {self.model}\")\n",
    "\n",
    "class Phone(Device):\n",
    "    def __init__(self, brand, model, screen_size):\n",
    "        super().__init__(brand, model)\n",
    "        self.screen_size = screen_size\n",
    "\n",
    "    def display_info(self):\n",
    "        super().display_info()\n",
    "        print(f\"Phone - Screen Size: {self.screen_size}\")\n",
    "\n",
    "class Tablet(Device):\n",
    "    def __init__(self, brand, model, battery_capacity):\n",
    "        super().__init__(brand, model)\n",
    "        self.battery_capacity = battery_capacity\n",
    "\n",
    "    def display_info(self):\n",
    "        super().display_info()\n",
    "        print(f\"Tablet - Battery Capacity: {self.battery_capacity} mAh\")\n",
    "\n",
    "\n",
    "phone = Phone(\"Samsung\", \"Galaxy S21\", \"6.2 inches\")\n",
    "tablet = Tablet(\"Apple\", \"iPad Air\", 8000)\n",
    "\n",
    "phone.display_info()\n",
    "print()\n",
    "tablet.display_info()\n"
   ]
  },
  {
   "cell_type": "code",
   "execution_count": null,
   "id": "b8c1a6f9",
   "metadata": {},
   "outputs": [],
   "source": [
    "Que 10. Create a base class called \"BankAccount\" with attributes like \"account_number\" and\n",
    "\"balance.\" Derive two classes, \"SavingsAccount\" and \"CheckingAccount,\" from\n",
    "\"BankAccount.\" Add specific methods like \"calculate_interest\" for the\n",
    "\"SavingsAccount\" class and \"deduct_fees\" for the \"CheckingAccount\" class."
   ]
  },
  {
   "cell_type": "code",
   "execution_count": 35,
   "id": "e1dc693e",
   "metadata": {},
   "outputs": [
    {
     "name": "stdout",
     "output_type": "stream",
     "text": [
      "Account Number: 00000000, Balance: rupees 1000.00\n",
      "Interest calculated. New balance: rupees 1025.00\n",
      "Account Number: 00000000, Balance: rupees 1025.00\n",
      "\n",
      "Account Number: 852014793, Balance: rupees 1500.00\n",
      "Fees deducted. New balance: rupees 1490.00\n",
      "Account Number: 852014793, Balance: rupees 1490.00\n"
     ]
    }
   ],
   "source": [
    "class BankAccount:\n",
    "    def __init__(self, account_number, balance):\n",
    "        self.account_number = account_number\n",
    "        self.balance = balance\n",
    "\n",
    "    def display_info(self):\n",
    "        print(f\"Account Number: {self.account_number}, Balance: rupees {self.balance:.2f}\")\n",
    "\n",
    "class SavingsAccount(BankAccount):\n",
    "    def __init__(self, account_number, balance, interest_rate):\n",
    "        super().__init__(account_number, balance)\n",
    "        self.interest_rate = interest_rate\n",
    "\n",
    "    def calculate_interest(self):\n",
    "        interest = self.balance * (self.interest_rate / 100)\n",
    "        self.balance += interest\n",
    "        print(f\"Interest calculated. New balance: rupees {self.balance:.2f}\")\n",
    "\n",
    "class CheckingAccount(BankAccount):\n",
    "    def __init__(self, account_number, balance, fee):\n",
    "        super().__init__(account_number, balance)\n",
    "        self.fee = fee\n",
    "\n",
    "    def deduct_fees(self):\n",
    "        if self.balance >= self.fee:\n",
    "            self.balance -= self.fee\n",
    "            print(f\"Fees deducted. New balance: rupees {self.balance:.2f}\")\n",
    "        else:\n",
    "            print(\"Insufficient funds to deduct fees.\")\n",
    "\n",
    "savings_account = SavingsAccount(\"00000000\", 1000, 2.5)\n",
    "checking_account = CheckingAccount(\"852014793\", 1500, 10)\n",
    "\n",
    "savings_account.display_info()\n",
    "savings_account.calculate_interest()\n",
    "savings_account.display_info()\n",
    "print()\n",
    "\n",
    "checking_account.display_info()\n",
    "checking_account.deduct_fees()\n",
    "checking_account.display_info()\n"
   ]
  },
  {
   "cell_type": "code",
   "execution_count": null,
   "id": "1c6bf0a7",
   "metadata": {},
   "outputs": [],
   "source": []
  }
 ],
 "metadata": {
  "kernelspec": {
   "display_name": "Python 3 (ipykernel)",
   "language": "python",
   "name": "python3"
  },
  "language_info": {
   "codemirror_mode": {
    "name": "ipython",
    "version": 3
   },
   "file_extension": ".py",
   "mimetype": "text/x-python",
   "name": "python",
   "nbconvert_exporter": "python",
   "pygments_lexer": "ipython3",
   "version": "3.11.4"
  }
 },
 "nbformat": 4,
 "nbformat_minor": 5
}
