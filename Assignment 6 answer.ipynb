{
 "cells": [
  {
   "cell_type": "markdown",
   "id": "8251b356",
   "metadata": {},
   "source": [
    "Q.1. What are keywords in python? Using the keyword library, print all the python keywords.\n",
    "\n",
    "Answer= keyword are used in python these keyword are already stored in library these are saved used for make language more easy\n",
    "special reserved words that have specific meanings and purposes and can't be used for anything but those specific purposes"
   ]
  },
  {
   "cell_type": "code",
   "execution_count": 1,
   "id": "b439beca",
   "metadata": {},
   "outputs": [
    {
     "name": "stdout",
     "output_type": "stream",
     "text": [
      "['False', 'None', 'True', 'and', 'as', 'assert', 'async', 'await', 'break', 'class', 'continue', 'def', 'del', 'elif', 'else', 'except', 'finally', 'for', 'from', 'global', 'if', 'import', 'in', 'is', 'lambda', 'nonlocal', 'not', 'or', 'pass', 'raise', 'return', 'try', 'while', 'with', 'yield']\n"
     ]
    }
   ],
   "source": [
    "import keyword\n",
    "\n",
    "print(keyword.kwlist)"
   ]
  },
  {
   "cell_type": "markdown",
   "id": "a1b7b4a0",
   "metadata": {},
   "source": [
    "Q.2. What are the rules to create variables in python?\n",
    "\n",
    "Answer= A variable can have a short name (like x and y) or a more descriptive name (age, carname, total_volume). Rules for Python variables:\n",
    "\n",
    "•A variable name must start with a letter or the underscore character\n",
    "\n",
    "•A variable name cannot start with a number\n",
    "\n",
    "•A variable name can only contain alpha-numeric characters and underscores (A-z, 0-9, and _ )\n",
    "\n",
    "•Variable names are case-sensitive (age, Age and AGE are three different variables)\n",
    "\n",
    "•A variable name cannot be any of the Python keywords."
   ]
  },
  {
   "cell_type": "markdown",
   "id": "251ba7fa",
   "metadata": {},
   "source": [
    "Q.3. What are the standards and conventions followed for the nomenclature of variables in\n",
    "python to improve code readability and maintainability?\n",
    "\n",
    "Answer= there are some points for that\n",
    "\n",
    "•Use descriptive names\n",
    "\n",
    "•Use consistent naming conventions\n",
    "\n",
    "•Avoid using abbreviations\n",
    "\n",
    "•Use meaningful prefixes\n",
    "\n",
    "•Use underscores to separate words"
   ]
  },
  {
   "cell_type": "markdown",
   "id": "cb5b373c",
   "metadata": {},
   "source": [
    "Q.4. What will happen if a keyword is used as a variable name?\n",
    "\n",
    "Answer= the keyword are used as variable name make difficulties can make code less readable and maintainable"
   ]
  },
  {
   "cell_type": "markdown",
   "id": "bfd90a78",
   "metadata": {},
   "source": [
    "Q.5. For what purpose def keyword is used?\n",
    "\n",
    "Answer= def = used for define a function"
   ]
  },
  {
   "cell_type": "markdown",
   "id": "0f23f4fb",
   "metadata": {},
   "source": [
    "Q.6. What is the operation of this special character ‘\\’?\n",
    "\n",
    "Answer= the backslash \"\\\" is a special character, also called the \"escape\" character. It is used in representing certain whitespace characters: \"\\t\" is a tab, \"\\n\" is a newline, and \"\\r\" is a carriage return. Conversely, prefixing a special character with \"\\\" turns it into an ordinary character.\n"
   ]
  },
  {
   "cell_type": "markdown",
   "id": "3ec00367",
   "metadata": {},
   "source": [
    "Q.7. Give an example of the following conditions:\n",
    "(i) Homogeneous list\n",
    "(ii) Heterogeneous set\n",
    "(iii) Homogeneous tuple\n",
    "\n",
    "Answer = homogeneous list = list1 = [9,8,7,6,5,4]\n",
    "\n",
    "•Heterogeneous set = Mahipal_set = {5,\"him\",True}\n",
    "\n",
    "•Homogeneous tuple = numbers = (\"one\",\"two\",\"three\",\"four\",\"five\",\"six\",\"seven\")"
   ]
  },
  {
   "cell_type": "markdown",
   "id": "c9a81071",
   "metadata": {},
   "source": [
    "Q.8. Explain the mutable and immutable data types with proper explanation & examples.\n",
    "\n",
    "Answer= mutable data = can not be chagend after creation ex.- sets,lists,dict.\n",
    "\n",
    "• immutable data = chagend after creation ex.- strings, integers, or tuples."
   ]
  },
  {
   "cell_type": "markdown",
   "id": "b9994705",
   "metadata": {},
   "source": [
    "Q.9. Write a code to create the given structure using only for loop.\n",
    "*\n",
    "***\n",
    "*****\n",
    "*******\n",
    "*********"
   ]
  },
  {
   "cell_type": "code",
   "execution_count": 13,
   "id": "71eb7c31",
   "metadata": {},
   "outputs": [
    {
     "name": "stdout",
     "output_type": "stream",
     "text": [
      "* \n",
      "* * \n",
      "* * * \n",
      "* * * * \n",
      "* * * * * \n"
     ]
    }
   ],
   "source": [
    "###answer\n",
    "n = 5\n",
    "for i in range(0, n):\n",
    "    for j in range(0, i+1):\n",
    "        print(\"*\", end=\" \")\n",
    "    print()"
   ]
  },
  {
   "cell_type": "markdown",
   "id": "125f988c",
   "metadata": {},
   "source": [
    "Q.10. Write a code to create the given structure using while loop.\n",
    "|||||||||\n",
    "|||||||\n",
    "|||||\n",
    "|||\n",
    "|"
   ]
  },
  {
   "cell_type": "code",
   "execution_count": 39,
   "id": "508cdb24",
   "metadata": {},
   "outputs": [
    {
     "name": "stdout",
     "output_type": "stream",
     "text": [
      "| | | | | | | | | \n"
     ]
    }
   ],
   "source": [
    "count = 9\n",
    "# run loop till count is less than 5\n",
    "while count > 0:\n",
    "        print(\"|\",end=\" \")\n",
    "        count = count - 1\n",
    "print()"
   ]
  },
  {
   "cell_type": "code",
   "execution_count": null,
   "id": "9150376d",
   "metadata": {},
   "outputs": [],
   "source": []
  }
 ],
 "metadata": {
  "kernelspec": {
   "display_name": "Python 3 (ipykernel)",
   "language": "python",
   "name": "python3"
  },
  "language_info": {
   "codemirror_mode": {
    "name": "ipython",
    "version": 3
   },
   "file_extension": ".py",
   "mimetype": "text/x-python",
   "name": "python",
   "nbconvert_exporter": "python",
   "pygments_lexer": "ipython3",
   "version": "3.11.4"
  }
 },
 "nbformat": 4,
 "nbformat_minor": 5
}
